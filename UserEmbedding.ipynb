{
 "cells": [
  {
   "cell_type": "markdown",
   "metadata": {},
   "source": [
    "` Only show one business when input is list\n",
    "\n",
    "` Evaluation Problem DivsionbyZero\n"
   ]
  },
  {
   "cell_type": "markdown",
   "metadata": {},
   "source": [
    "# Deeplearning N Network Based Recommandation System on Yelp Data"
   ]
  },
  {
   "cell_type": "code",
   "execution_count": 38,
   "metadata": {},
   "outputs": [],
   "source": [
    "import pandas as pd\n",
    "import numpy as np\n",
    "import json\n",
    "import matplotlib.pyplot as plt"
   ]
  },
  {
   "cell_type": "markdown",
   "metadata": {},
   "source": [
    "## Data Processing"
   ]
  },
  {
   "cell_type": "markdown",
   "metadata": {},
   "source": [
    "##### Load in Review data "
   ]
  },
  {
   "cell_type": "code",
   "execution_count": 39,
   "metadata": {},
   "outputs": [],
   "source": [
    "review = []\n",
    "for line in open('review.json', 'r'):\n",
    "    review.append(json.loads(line))"
   ]
  },
  {
   "cell_type": "code",
   "execution_count": 40,
   "metadata": {},
   "outputs": [],
   "source": [
    "business_info = []\n",
    "for line in open('business.json', 'r'):\n",
    "    business_info.append(json.loads(line))"
   ]
  },
  {
   "cell_type": "code",
   "execution_count": 41,
   "metadata": {},
   "outputs": [],
   "source": [
    "user_df = pd.read_csv('user.csv',names=['user id','# of funny votes','# of useful votes',' # of cool votes',' avg rating',' total review count'])\n",
    "business_df = pd.read_csv('business.csv',header = None)"
   ]
  },
  {
   "cell_type": "code",
   "execution_count": 42,
   "metadata": {},
   "outputs": [
    {
     "data": {
      "text/html": [
       "<div>\n",
       "<style scoped>\n",
       "    .dataframe tbody tr th:only-of-type {\n",
       "        vertical-align: middle;\n",
       "    }\n",
       "\n",
       "    .dataframe tbody tr th {\n",
       "        vertical-align: top;\n",
       "    }\n",
       "\n",
       "    .dataframe thead th {\n",
       "        text-align: right;\n",
       "    }\n",
       "</style>\n",
       "<table border=\"1\" class=\"dataframe\">\n",
       "  <thead>\n",
       "    <tr style=\"text-align: right;\">\n",
       "      <th></th>\n",
       "      <th>user id</th>\n",
       "      <th># of funny votes</th>\n",
       "      <th># of useful votes</th>\n",
       "      <th># of cool votes</th>\n",
       "      <th>avg rating</th>\n",
       "      <th>total review count</th>\n",
       "    </tr>\n",
       "  </thead>\n",
       "  <tbody>\n",
       "    <tr>\n",
       "      <th>0</th>\n",
       "      <td>14443</td>\n",
       "      <td>30</td>\n",
       "      <td>45</td>\n",
       "      <td>36</td>\n",
       "      <td>3.79</td>\n",
       "      <td>19</td>\n",
       "    </tr>\n",
       "    <tr>\n",
       "      <th>1</th>\n",
       "      <td>17782</td>\n",
       "      <td>5</td>\n",
       "      <td>24</td>\n",
       "      <td>9</td>\n",
       "      <td>3.90</td>\n",
       "      <td>10</td>\n",
       "    </tr>\n",
       "    <tr>\n",
       "      <th>2</th>\n",
       "      <td>13295</td>\n",
       "      <td>2</td>\n",
       "      <td>24</td>\n",
       "      <td>0</td>\n",
       "      <td>4.23</td>\n",
       "      <td>22</td>\n",
       "    </tr>\n",
       "    <tr>\n",
       "      <th>3</th>\n",
       "      <td>15187</td>\n",
       "      <td>0</td>\n",
       "      <td>7</td>\n",
       "      <td>0</td>\n",
       "      <td>4.00</td>\n",
       "      <td>9</td>\n",
       "    </tr>\n",
       "    <tr>\n",
       "      <th>4</th>\n",
       "      <td>16016</td>\n",
       "      <td>13</td>\n",
       "      <td>21</td>\n",
       "      <td>5</td>\n",
       "      <td>3.62</td>\n",
       "      <td>16</td>\n",
       "    </tr>\n",
       "  </tbody>\n",
       "</table>\n",
       "</div>"
      ],
      "text/plain": [
       "   user id  # of funny votes  # of useful votes   # of cool votes  \\\n",
       "0    14443                30                 45                36   \n",
       "1    17782                 5                 24                 9   \n",
       "2    13295                 2                 24                 0   \n",
       "3    15187                 0                  7                 0   \n",
       "4    16016                13                 21                 5   \n",
       "\n",
       "    avg rating   total review count  \n",
       "0         3.79                   19  \n",
       "1         3.90                   10  \n",
       "2         4.23                   22  \n",
       "3         4.00                    9  \n",
       "4         3.62                   16  "
      ]
     },
     "execution_count": 42,
     "metadata": {},
     "output_type": "execute_result"
    }
   ],
   "source": [
    "user_df.head()"
   ]
  },
  {
   "cell_type": "code",
   "execution_count": 43,
   "metadata": {},
   "outputs": [
    {
     "data": {
      "text/html": [
       "<div>\n",
       "<style scoped>\n",
       "    .dataframe tbody tr th:only-of-type {\n",
       "        vertical-align: middle;\n",
       "    }\n",
       "\n",
       "    .dataframe tbody tr th {\n",
       "        vertical-align: top;\n",
       "    }\n",
       "\n",
       "    .dataframe thead th {\n",
       "        text-align: right;\n",
       "    }\n",
       "</style>\n",
       "<table border=\"1\" class=\"dataframe\">\n",
       "  <thead>\n",
       "    <tr style=\"text-align: right;\">\n",
       "      <th></th>\n",
       "      <th>0</th>\n",
       "      <th>1</th>\n",
       "      <th>2</th>\n",
       "      <th>3</th>\n",
       "      <th>4</th>\n",
       "      <th>5</th>\n",
       "      <th>6</th>\n",
       "      <th>7</th>\n",
       "      <th>8</th>\n",
       "      <th>9</th>\n",
       "      <th>10</th>\n",
       "      <th>11</th>\n",
       "      <th>12</th>\n",
       "      <th>13</th>\n",
       "    </tr>\n",
       "  </thead>\n",
       "  <tbody>\n",
       "    <tr>\n",
       "      <th>0</th>\n",
       "      <td>4584</td>\n",
       "      <td>1</td>\n",
       "      <td>4</td>\n",
       "      <td>5</td>\n",
       "      <td>6.0</td>\n",
       "      <td>7.0</td>\n",
       "      <td>8.0</td>\n",
       "      <td>9.0</td>\n",
       "      <td>NaN</td>\n",
       "      <td>NaN</td>\n",
       "      <td>NaN</td>\n",
       "      <td>NaN</td>\n",
       "      <td>NaN</td>\n",
       "      <td>NaN</td>\n",
       "    </tr>\n",
       "    <tr>\n",
       "      <th>1</th>\n",
       "      <td>4222</td>\n",
       "      <td>1</td>\n",
       "      <td>4</td>\n",
       "      <td>10</td>\n",
       "      <td>11.0</td>\n",
       "      <td>12.0</td>\n",
       "      <td>13.0</td>\n",
       "      <td>14.0</td>\n",
       "      <td>NaN</td>\n",
       "      <td>NaN</td>\n",
       "      <td>NaN</td>\n",
       "      <td>NaN</td>\n",
       "      <td>NaN</td>\n",
       "      <td>NaN</td>\n",
       "    </tr>\n",
       "    <tr>\n",
       "      <th>2</th>\n",
       "      <td>4646</td>\n",
       "      <td>1</td>\n",
       "      <td>4</td>\n",
       "      <td>15</td>\n",
       "      <td>16.0</td>\n",
       "      <td>17.0</td>\n",
       "      <td>14.0</td>\n",
       "      <td>18.0</td>\n",
       "      <td>19.0</td>\n",
       "      <td>20.0</td>\n",
       "      <td>21.0</td>\n",
       "      <td>NaN</td>\n",
       "      <td>NaN</td>\n",
       "      <td>NaN</td>\n",
       "    </tr>\n",
       "    <tr>\n",
       "      <th>3</th>\n",
       "      <td>4137</td>\n",
       "      <td>1</td>\n",
       "      <td>4</td>\n",
       "      <td>22</td>\n",
       "      <td>23.0</td>\n",
       "      <td>9.0</td>\n",
       "      <td>NaN</td>\n",
       "      <td>NaN</td>\n",
       "      <td>NaN</td>\n",
       "      <td>NaN</td>\n",
       "      <td>NaN</td>\n",
       "      <td>NaN</td>\n",
       "      <td>NaN</td>\n",
       "      <td>NaN</td>\n",
       "    </tr>\n",
       "    <tr>\n",
       "      <th>4</th>\n",
       "      <td>1100</td>\n",
       "      <td>1</td>\n",
       "      <td>4</td>\n",
       "      <td>15</td>\n",
       "      <td>24.0</td>\n",
       "      <td>9.0</td>\n",
       "      <td>NaN</td>\n",
       "      <td>NaN</td>\n",
       "      <td>NaN</td>\n",
       "      <td>NaN</td>\n",
       "      <td>NaN</td>\n",
       "      <td>NaN</td>\n",
       "      <td>NaN</td>\n",
       "      <td>NaN</td>\n",
       "    </tr>\n",
       "  </tbody>\n",
       "</table>\n",
       "</div>"
      ],
      "text/plain": [
       "     0   1   2   3     4     5     6     7     8     9     10  11  12  13\n",
       "0  4584   1   4   5   6.0   7.0   8.0   9.0   NaN   NaN   NaN NaN NaN NaN\n",
       "1  4222   1   4  10  11.0  12.0  13.0  14.0   NaN   NaN   NaN NaN NaN NaN\n",
       "2  4646   1   4  15  16.0  17.0  14.0  18.0  19.0  20.0  21.0 NaN NaN NaN\n",
       "3  4137   1   4  22  23.0   9.0   NaN   NaN   NaN   NaN   NaN NaN NaN NaN\n",
       "4  1100   1   4  15  24.0   9.0   NaN   NaN   NaN   NaN   NaN NaN NaN NaN"
      ]
     },
     "execution_count": 43,
     "metadata": {},
     "output_type": "execute_result"
    }
   ],
   "source": [
    "business_df.head()"
   ]
  },
  {
   "cell_type": "code",
   "execution_count": 44,
   "metadata": {
    "scrolled": true
   },
   "outputs": [
    {
     "data": {
      "text/plain": [
       "{'votes': {'funny': 0, 'useful': 5, 'cool': 2},\n",
       " 'user_id': 'rLtl8ZkDX5vH5nAx9C3q5Q',\n",
       " 'review_id': 'fWKvX83p0-ka4JS3dc6E5A',\n",
       " 'stars': 5,\n",
       " 'date': '2011-01-26',\n",
       " 'text': 'My wife took me here on my birthday for breakfast and it was excellent.  The weather was perfect which made sitting outside overlooking their grounds an absolute pleasure.  Our waitress was excellent and our food arrived quickly on the semi-busy Saturday morning.  It looked like the place fills up pretty quickly so the earlier you get here the better.\\n\\nDo yourself a favor and get their Bloody Mary.  It was phenomenal and simply the best I\\'ve ever had.  I\\'m pretty sure they only use ingredients from their garden and blend them fresh when you order it.  It was amazing.\\n\\nWhile EVERYTHING on the menu looks excellent, I had the white truffle scrambled eggs vegetable skillet and it was tasty and delicious.  It came with 2 pieces of their griddled bread with was amazing and it absolutely made the meal complete.  It was the best \"toast\" I\\'ve ever had.\\n\\nAnyway, I can\\'t wait to go back!',\n",
       " 'type': 'review',\n",
       " 'business_id': '9yKzy9PApeiPPOUJEtnvkg'}"
      ]
     },
     "execution_count": 44,
     "metadata": {},
     "output_type": "execute_result"
    }
   ],
   "source": [
    "review[0]"
   ]
  },
  {
   "cell_type": "code",
   "execution_count": 45,
   "metadata": {},
   "outputs": [],
   "source": [
    "user_business_info = []\n",
    "for i in review:\n",
    "    user_business_info.append([i['user_id'],i['business_id'],i['stars']])"
   ]
  },
  {
   "cell_type": "code",
   "execution_count": 46,
   "metadata": {},
   "outputs": [
    {
     "data": {
      "text/plain": [
       "['rLtl8ZkDX5vH5nAx9C3q5Q', '9yKzy9PApeiPPOUJEtnvkg', 5]"
      ]
     },
     "execution_count": 46,
     "metadata": {},
     "output_type": "execute_result"
    }
   ],
   "source": [
    "user_business_info[0]"
   ]
  },
  {
   "cell_type": "code",
   "execution_count": 47,
   "metadata": {},
   "outputs": [
    {
     "data": {
      "text/plain": [
       "(141454, 3)"
      ]
     },
     "execution_count": 47,
     "metadata": {},
     "output_type": "execute_result"
    }
   ],
   "source": [
    "np.array(user_business_info).shape"
   ]
  },
  {
   "cell_type": "code",
   "execution_count": 48,
   "metadata": {},
   "outputs": [],
   "source": [
    "def get_business_id(search_business_token):        \n",
    "    df = pd.read_csv('business-lookup.csv',header = None)\n",
    "    return df[df[1]==search_business_token][0].item()"
   ]
  },
  {
   "cell_type": "code",
   "execution_count": 49,
   "metadata": {},
   "outputs": [
    {
     "data": {
      "text/plain": [
       "3998"
      ]
     },
     "execution_count": 49,
     "metadata": {},
     "output_type": "execute_result"
    }
   ],
   "source": [
    "get_business_id('FuykdWajbSDj0hBY5DIuZQ')"
   ]
  },
  {
   "cell_type": "code",
   "execution_count": 50,
   "metadata": {},
   "outputs": [],
   "source": [
    "def get_business_token(business_id):\n",
    "    df = pd.read_csv('business-lookup.csv',header = None)\n",
    "    return df[df[0]==business_id][1].item()"
   ]
  },
  {
   "cell_type": "code",
   "execution_count": 51,
   "metadata": {},
   "outputs": [
    {
     "data": {
      "text/plain": [
       "'FuykdWajbSDj0hBY5DIuZQ'"
      ]
     },
     "execution_count": 51,
     "metadata": {},
     "output_type": "execute_result"
    }
   ],
   "source": [
    "get_business_token(3998)"
   ]
  },
  {
   "cell_type": "code",
   "execution_count": 52,
   "metadata": {},
   "outputs": [],
   "source": [
    "def get_user_id(search_user_token):\n",
    "    df = pd.read_csv('user-lookup.csv',header=None)\n",
    "    return df[df[1]==search_user_token][0].item()"
   ]
  },
  {
   "cell_type": "code",
   "execution_count": 53,
   "metadata": {},
   "outputs": [
    {
     "data": {
      "text/plain": [
       "10000"
      ]
     },
     "execution_count": 53,
     "metadata": {},
     "output_type": "execute_result"
    }
   ],
   "source": [
    "get_user_id('rLtl8ZkDX5vH5nAx9C3q5Q')"
   ]
  },
  {
   "cell_type": "markdown",
   "metadata": {},
   "source": [
    "### Extract userid and businessid and other features to a list,array or pandas"
   ]
  },
  {
   "cell_type": "markdown",
   "metadata": {
    "scrolled": true
   },
   "source": [
    "userinfo = []\n",
    "for i in user_business_info: # Here to change the total size of dataset in training batch \n",
    "    userinfo.append([get_user_id(i[0]),get_business_id(i[1]),i[2]])"
   ]
  },
  {
   "cell_type": "markdown",
   "metadata": {
    "scrolled": true
   },
   "source": [
    "userinfo = np.asarray(userinfo)\n",
    "userinfo"
   ]
  },
  {
   "cell_type": "markdown",
   "metadata": {},
   "source": [
    "### Asign each column an unique number in the range of row length "
   ]
  },
  {
   "cell_type": "markdown",
   "metadata": {},
   "source": [
    "user_df = pd.DataFrame(userinfo,columns = ['userId','itemId','Rating'])\n",
    "user_df['idxuserId'] = user_df['userId'].astype('category').cat.codes.values\n",
    "user_df['idxitemId'] = user_df['itemId'].astype('category').cat.codes.values"
   ]
  },
  {
   "cell_type": "markdown",
   "metadata": {},
   "source": [
    "user_df.head()"
   ]
  },
  {
   "cell_type": "markdown",
   "metadata": {},
   "source": [
    "user_df.to_csv('IndexedID')"
   ]
  },
  {
   "cell_type": "code",
   "execution_count": 54,
   "metadata": {},
   "outputs": [
    {
     "data": {
      "text/html": [
       "<div>\n",
       "<style scoped>\n",
       "    .dataframe tbody tr th:only-of-type {\n",
       "        vertical-align: middle;\n",
       "    }\n",
       "\n",
       "    .dataframe tbody tr th {\n",
       "        vertical-align: top;\n",
       "    }\n",
       "\n",
       "    .dataframe thead th {\n",
       "        text-align: right;\n",
       "    }\n",
       "</style>\n",
       "<table border=\"1\" class=\"dataframe\">\n",
       "  <thead>\n",
       "    <tr style=\"text-align: right;\">\n",
       "      <th></th>\n",
       "      <th>userId</th>\n",
       "      <th>itemId</th>\n",
       "      <th>Rating</th>\n",
       "      <th>idxuserId</th>\n",
       "      <th>idxitemId</th>\n",
       "    </tr>\n",
       "  </thead>\n",
       "  <tbody>\n",
       "    <tr>\n",
       "      <th>0</th>\n",
       "      <td>10000</td>\n",
       "      <td>0</td>\n",
       "      <td>5</td>\n",
       "      <td>0</td>\n",
       "      <td>0</td>\n",
       "    </tr>\n",
       "    <tr>\n",
       "      <th>1</th>\n",
       "      <td>10001</td>\n",
       "      <td>1</td>\n",
       "      <td>5</td>\n",
       "      <td>1</td>\n",
       "      <td>1</td>\n",
       "    </tr>\n",
       "    <tr>\n",
       "      <th>2</th>\n",
       "      <td>10002</td>\n",
       "      <td>2</td>\n",
       "      <td>5</td>\n",
       "      <td>2</td>\n",
       "      <td>2</td>\n",
       "    </tr>\n",
       "    <tr>\n",
       "      <th>3</th>\n",
       "      <td>10003</td>\n",
       "      <td>3</td>\n",
       "      <td>4</td>\n",
       "      <td>3</td>\n",
       "      <td>3</td>\n",
       "    </tr>\n",
       "    <tr>\n",
       "      <th>4</th>\n",
       "      <td>10004</td>\n",
       "      <td>4</td>\n",
       "      <td>5</td>\n",
       "      <td>4</td>\n",
       "      <td>4</td>\n",
       "    </tr>\n",
       "  </tbody>\n",
       "</table>\n",
       "</div>"
      ],
      "text/plain": [
       "   userId  itemId  Rating  idxuserId  idxitemId\n",
       "0   10000       0       5          0          0\n",
       "1   10001       1       5          1          1\n",
       "2   10002       2       5          2          2\n",
       "3   10003       3       4          3          3\n",
       "4   10004       4       5          4          4"
      ]
     },
     "execution_count": 54,
     "metadata": {},
     "output_type": "execute_result"
    }
   ],
   "source": [
    "user_df = pd.read_csv('IndexedID')\n",
    "user_df = user_df.drop(['Unnamed: 0'], axis=1)\n",
    "user_df.head()"
   ]
  },
  {
   "cell_type": "code",
   "execution_count": 55,
   "metadata": {},
   "outputs": [],
   "source": [
    "from sklearn.model_selection import train_test_split\n",
    "trainkeras, testkeras = train_test_split(user_df, test_size=0.05)"
   ]
  },
  {
   "cell_type": "code",
   "execution_count": 56,
   "metadata": {},
   "outputs": [
    {
     "data": {
      "text/html": [
       "<div>\n",
       "<style scoped>\n",
       "    .dataframe tbody tr th:only-of-type {\n",
       "        vertical-align: middle;\n",
       "    }\n",
       "\n",
       "    .dataframe tbody tr th {\n",
       "        vertical-align: top;\n",
       "    }\n",
       "\n",
       "    .dataframe thead th {\n",
       "        text-align: right;\n",
       "    }\n",
       "</style>\n",
       "<table border=\"1\" class=\"dataframe\">\n",
       "  <thead>\n",
       "    <tr style=\"text-align: right;\">\n",
       "      <th></th>\n",
       "      <th>userId</th>\n",
       "      <th>itemId</th>\n",
       "      <th>Rating</th>\n",
       "      <th>idxuserId</th>\n",
       "      <th>idxitemId</th>\n",
       "    </tr>\n",
       "  </thead>\n",
       "  <tbody>\n",
       "    <tr>\n",
       "      <th>63465</th>\n",
       "      <td>12806</td>\n",
       "      <td>256</td>\n",
       "      <td>5</td>\n",
       "      <td>2806</td>\n",
       "      <td>256</td>\n",
       "    </tr>\n",
       "    <tr>\n",
       "      <th>65872</th>\n",
       "      <td>16041</td>\n",
       "      <td>1582</td>\n",
       "      <td>5</td>\n",
       "      <td>6041</td>\n",
       "      <td>1582</td>\n",
       "    </tr>\n",
       "    <tr>\n",
       "      <th>13123</th>\n",
       "      <td>10109</td>\n",
       "      <td>3034</td>\n",
       "      <td>4</td>\n",
       "      <td>109</td>\n",
       "      <td>3034</td>\n",
       "    </tr>\n",
       "    <tr>\n",
       "      <th>113529</th>\n",
       "      <td>10230</td>\n",
       "      <td>39</td>\n",
       "      <td>4</td>\n",
       "      <td>230</td>\n",
       "      <td>39</td>\n",
       "    </tr>\n",
       "    <tr>\n",
       "      <th>57937</th>\n",
       "      <td>14619</td>\n",
       "      <td>2548</td>\n",
       "      <td>5</td>\n",
       "      <td>4619</td>\n",
       "      <td>2548</td>\n",
       "    </tr>\n",
       "  </tbody>\n",
       "</table>\n",
       "</div>"
      ],
      "text/plain": [
       "        userId  itemId  Rating  idxuserId  idxitemId\n",
       "63465    12806     256       5       2806        256\n",
       "65872    16041    1582       5       6041       1582\n",
       "13123    10109    3034       4        109       3034\n",
       "113529   10230      39       4        230         39\n",
       "57937    14619    2548       5       4619       2548"
      ]
     },
     "execution_count": 56,
     "metadata": {},
     "output_type": "execute_result"
    }
   ],
   "source": [
    "trainkeras.head()"
   ]
  },
  {
   "cell_type": "markdown",
   "metadata": {},
   "source": [
    "import csv\n",
    "\n",
    "\n",
    "with open('people1.csv', 'a') as csvFile:\n",
    "    writer = csv.writer(csvFile)\n",
    "    writer.writerow(row)\n",
    "\n",
    "csvFile.close()"
   ]
  },
  {
   "cell_type": "markdown",
   "metadata": {},
   "source": [
    "## Train Model"
   ]
  },
  {
   "cell_type": "code",
   "execution_count": 57,
   "metadata": {
    "scrolled": true
   },
   "outputs": [],
   "source": [
    "import keras\n",
    "from IPython.display import SVG,Image\n",
    "from keras.optimizers import Adam\n",
    "from keras.utils.vis_utils import model_to_dot\n",
    "from keras.layers import merge\n",
    "from keras.layers import Input, Embedding, Dot, Reshape, Dense\n",
    "from keras.models import model_from_json\n",
    "from keras.utils import plot_model\n",
    "from keras import losses\n"
   ]
  },
  {
   "cell_type": "markdown",
   "metadata": {},
   "source": [
    "movie_input = keras.layers.Input(shape=[1],name='Business')\n",
    "movie_embedding = keras.layers.Embedding(n_movies + 1, n_latent_factors, name='Bussiness-Embedding')(movie_input)\n",
    "movie_vec = keras.layers.Flatten(name='FlattenBusiness')(movie_embedding)\n",
    "\n",
    "user_input = keras.layers.Input(shape=[1],name='User')\n",
    "user_vec = keras.layers.Flatten(name='FlattenUsers')(keras.layers.Embedding(n_users + 1, n_latent_factors,name='User-Embedding')(user_input))\n",
    "\n",
    "#prod = keras.layers.Merge([movie_vec, user_vec], mode='dot',name='DotProduct')\n",
    "prod = Dot(name = 'dot_product', normalize = True, axes = 1)([movie_vec, user_vec])\n",
    "model = keras.Model([user_input, movie_input], prod)\n",
    "model.compile('adam', 'mean_squared_error')"
   ]
  },
  {
   "cell_type": "code",
   "execution_count": 58,
   "metadata": {},
   "outputs": [],
   "source": [
    "n_users, n_movies = len(user_df['idxuserId']), len(user_df['idxitemId'])\n",
    "n_latent_factors = 5"
   ]
  },
  {
   "cell_type": "code",
   "execution_count": 59,
   "metadata": {},
   "outputs": [
    {
     "name": "stdout",
     "output_type": "stream",
     "text": [
      "WARNING:tensorflow:From C:\\Users\\Xiaobai\\.conda\\envs\\deeplearning\\lib\\site-packages\\tensorflow\\python\\framework\\op_def_library.py:263: colocate_with (from tensorflow.python.framework.ops) is deprecated and will be removed in a future version.\n",
      "Instructions for updating:\n",
      "Colocations handled automatically by placer.\n",
      "WARNING:tensorflow:From C:\\Users\\Xiaobai\\.conda\\envs\\deeplearning\\lib\\site-packages\\keras\\backend\\tensorflow_backend.py:3445: calling dropout (from tensorflow.python.ops.nn_ops) with keep_prob is deprecated and will be removed in a future version.\n",
      "Instructions for updating:\n",
      "Please use `rate` instead of `keep_prob`. Rate should be set to `rate = 1 - keep_prob`.\n"
     ]
    }
   ],
   "source": [
    "n_latent_factors_user = 5\n",
    "n_latent_factors_movie = 8\n",
    "\n",
    "bs_input = keras.layers.Input(shape=[1],name='BusinessID')\n",
    "bs_embedding = keras.layers.Embedding(n_movies + 1, n_latent_factors_movie, name='Business-Embedding')(bs_input)\n",
    "bs_vec = keras.layers.Flatten(name='FlattenBusiness')(bs_embedding)\n",
    "bs_vec = keras.layers.Dropout(0.2)(bs_vec)\n",
    "\n",
    "\n",
    "user_input = keras.layers.Input(shape=[1],name='User')\n",
    "user_vec = keras.layers.Flatten(name='FlattenUsers')(keras.layers.Embedding(n_users + 1, n_latent_factors_user,name='User-Embedding')(user_input))\n",
    "user_vec = keras.layers.Dropout(0.2)(user_vec)\n",
    "\n",
    "\n",
    "concat = keras.layers.Concatenate(axis=-1)([bs_vec, user_vec])\n",
    "concat_dropout = keras.layers.Dropout(0.2)(concat)\n",
    "dense = keras.layers.Dense(200,name='FullyConnected')(concat)\n",
    "dropout_1 = keras.layers.Dropout(0.2,name='Dropout')(dense)\n",
    "dense_2 = keras.layers.Dense(100,name='FullyConnected-1')(concat)\n",
    "dropout_2 = keras.layers.Dropout(0.2,name='Dropout')(dense_2)\n",
    "dense_3 = keras.layers.Dense(50,name='FullyConnected-2')(dense_2)\n",
    "dropout_3 = keras.layers.Dropout(0.2,name='Dropout')(dense_3)\n",
    "dense_4 = keras.layers.Dense(20,name='FullyConnected-3', activation='relu')(dense_3)\n",
    "\n",
    "\n",
    "result = keras.layers.Dense(1, activation='relu',name='Activation')(dense_4)\n",
    "adam = Adam(lr=0.005)\n",
    "model = keras.Model([user_input, bs_input], result)\n",
    "model.compile(optimizer=adam,loss= 'mean_absolute_error', metrics=['accuracy'])"
   ]
  },
  {
   "cell_type": "code",
   "execution_count": 60,
   "metadata": {},
   "outputs": [
    {
     "name": "stdout",
     "output_type": "stream",
     "text": [
      "__________________________________________________________________________________________________\n",
      "Layer (type)                    Output Shape         Param #     Connected to                     \n",
      "==================================================================================================\n",
      "BusinessID (InputLayer)         (None, 1)            0                                            \n",
      "__________________________________________________________________________________________________\n",
      "User (InputLayer)               (None, 1)            0                                            \n",
      "__________________________________________________________________________________________________\n",
      "Business-Embedding (Embedding)  (None, 1, 8)         1131640     BusinessID[0][0]                 \n",
      "__________________________________________________________________________________________________\n",
      "User-Embedding (Embedding)      (None, 1, 5)         707275      User[0][0]                       \n",
      "__________________________________________________________________________________________________\n",
      "FlattenBusiness (Flatten)       (None, 8)            0           Business-Embedding[0][0]         \n",
      "__________________________________________________________________________________________________\n",
      "FlattenUsers (Flatten)          (None, 5)            0           User-Embedding[0][0]             \n",
      "__________________________________________________________________________________________________\n",
      "dropout_1 (Dropout)             (None, 8)            0           FlattenBusiness[0][0]            \n",
      "__________________________________________________________________________________________________\n",
      "dropout_2 (Dropout)             (None, 5)            0           FlattenUsers[0][0]               \n",
      "__________________________________________________________________________________________________\n",
      "concatenate_1 (Concatenate)     (None, 13)           0           dropout_1[0][0]                  \n",
      "                                                                 dropout_2[0][0]                  \n",
      "__________________________________________________________________________________________________\n",
      "FullyConnected-1 (Dense)        (None, 100)          1400        concatenate_1[0][0]              \n",
      "__________________________________________________________________________________________________\n",
      "FullyConnected-2 (Dense)        (None, 50)           5050        FullyConnected-1[0][0]           \n",
      "__________________________________________________________________________________________________\n",
      "FullyConnected-3 (Dense)        (None, 20)           1020        FullyConnected-2[0][0]           \n",
      "__________________________________________________________________________________________________\n",
      "Activation (Dense)              (None, 1)            21          FullyConnected-3[0][0]           \n",
      "==================================================================================================\n",
      "Total params: 1,846,406\n",
      "Trainable params: 1,846,406\n",
      "Non-trainable params: 0\n",
      "__________________________________________________________________________________________________\n"
     ]
    }
   ],
   "source": [
    "model.summary()"
   ]
  },
  {
   "cell_type": "code",
   "execution_count": 91,
   "metadata": {},
   "outputs": [],
   "source": [
    "#plot_model(model, to_file='model_plot.png', show_shapes=True, show_layer_names=True,rankdir='HB')"
   ]
  },
  {
   "cell_type": "code",
   "execution_count": 82,
   "metadata": {},
   "outputs": [
    {
     "data": {
      "image/svg+xml": [
       "<svg height=\"719pt\" viewBox=\"0.00 0.00 693.50 719.00\" width=\"694pt\" xmlns=\"http://www.w3.org/2000/svg\" xmlns:xlink=\"http://www.w3.org/1999/xlink\">\n",
       "<g class=\"graph\" id=\"graph0\" transform=\"scale(1 1) rotate(0) translate(4 715)\">\n",
       "<title>G</title>\n",
       "<polygon fill=\"white\" points=\"-4,4 -4,-715 689.5,-715 689.5,4 -4,4\" stroke=\"none\"/>\n",
       "<!-- 2907165290568 -->\n",
       "<g class=\"node\" id=\"node1\"><title>2907165290568</title>\n",
       "<polygon fill=\"none\" points=\"35.5,-664.5 35.5,-710.5 309.5,-710.5 309.5,-664.5 35.5,-664.5\" stroke=\"black\"/>\n",
       "<text font-family=\"Times New Roman,serif\" font-size=\"14.00\" text-anchor=\"middle\" x=\"109.5\" y=\"-683.8\">BusinessID: InputLayer</text>\n",
       "<polyline fill=\"none\" points=\"183.5,-664.5 183.5,-710.5 \" stroke=\"black\"/>\n",
       "<text font-family=\"Times New Roman,serif\" font-size=\"14.00\" text-anchor=\"middle\" x=\"211.5\" y=\"-695.3\">input:</text>\n",
       "<polyline fill=\"none\" points=\"183.5,-687.5 239.5,-687.5 \" stroke=\"black\"/>\n",
       "<text font-family=\"Times New Roman,serif\" font-size=\"14.00\" text-anchor=\"middle\" x=\"211.5\" y=\"-672.3\">output:</text>\n",
       "<polyline fill=\"none\" points=\"239.5,-664.5 239.5,-710.5 \" stroke=\"black\"/>\n",
       "<text font-family=\"Times New Roman,serif\" font-size=\"14.00\" text-anchor=\"middle\" x=\"274.5\" y=\"-695.3\">(None, 1)</text>\n",
       "<polyline fill=\"none\" points=\"239.5,-687.5 309.5,-687.5 \" stroke=\"black\"/>\n",
       "<text font-family=\"Times New Roman,serif\" font-size=\"14.00\" text-anchor=\"middle\" x=\"274.5\" y=\"-672.3\">(None, 1)</text>\n",
       "</g>\n",
       "<!-- 2907165290680 -->\n",
       "<g class=\"node\" id=\"node3\"><title>2907165290680</title>\n",
       "<polygon fill=\"none\" points=\"0,-581.5 0,-627.5 345,-627.5 345,-581.5 0,-581.5\" stroke=\"black\"/>\n",
       "<text font-family=\"Times New Roman,serif\" font-size=\"14.00\" text-anchor=\"middle\" x=\"102.5\" y=\"-600.8\">Business-Embedding: Embedding</text>\n",
       "<polyline fill=\"none\" points=\"205,-581.5 205,-627.5 \" stroke=\"black\"/>\n",
       "<text font-family=\"Times New Roman,serif\" font-size=\"14.00\" text-anchor=\"middle\" x=\"233\" y=\"-612.3\">input:</text>\n",
       "<polyline fill=\"none\" points=\"205,-604.5 261,-604.5 \" stroke=\"black\"/>\n",
       "<text font-family=\"Times New Roman,serif\" font-size=\"14.00\" text-anchor=\"middle\" x=\"233\" y=\"-589.3\">output:</text>\n",
       "<polyline fill=\"none\" points=\"261,-581.5 261,-627.5 \" stroke=\"black\"/>\n",
       "<text font-family=\"Times New Roman,serif\" font-size=\"14.00\" text-anchor=\"middle\" x=\"303\" y=\"-612.3\">(None, 1)</text>\n",
       "<polyline fill=\"none\" points=\"261,-604.5 345,-604.5 \" stroke=\"black\"/>\n",
       "<text font-family=\"Times New Roman,serif\" font-size=\"14.00\" text-anchor=\"middle\" x=\"303\" y=\"-589.3\">(None, 1, 8)</text>\n",
       "</g>\n",
       "<!-- 2907165290568&#45;&gt;2907165290680 -->\n",
       "<g class=\"edge\" id=\"edge1\"><title>2907165290568-&gt;2907165290680</title>\n",
       "<path d=\"M172.5,-664.366C172.5,-656.152 172.5,-646.658 172.5,-637.725\" fill=\"none\" stroke=\"black\"/>\n",
       "<polygon fill=\"black\" points=\"176,-637.607 172.5,-627.607 169,-637.607 176,-637.607\" stroke=\"black\"/>\n",
       "</g>\n",
       "<!-- 2907155951856 -->\n",
       "<g class=\"node\" id=\"node2\"><title>2907155951856</title>\n",
       "<polygon fill=\"none\" points=\"406.5,-664.5 406.5,-710.5 642.5,-710.5 642.5,-664.5 406.5,-664.5\" stroke=\"black\"/>\n",
       "<text font-family=\"Times New Roman,serif\" font-size=\"14.00\" text-anchor=\"middle\" x=\"461.5\" y=\"-683.8\">User: InputLayer</text>\n",
       "<polyline fill=\"none\" points=\"516.5,-664.5 516.5,-710.5 \" stroke=\"black\"/>\n",
       "<text font-family=\"Times New Roman,serif\" font-size=\"14.00\" text-anchor=\"middle\" x=\"544.5\" y=\"-695.3\">input:</text>\n",
       "<polyline fill=\"none\" points=\"516.5,-687.5 572.5,-687.5 \" stroke=\"black\"/>\n",
       "<text font-family=\"Times New Roman,serif\" font-size=\"14.00\" text-anchor=\"middle\" x=\"544.5\" y=\"-672.3\">output:</text>\n",
       "<polyline fill=\"none\" points=\"572.5,-664.5 572.5,-710.5 \" stroke=\"black\"/>\n",
       "<text font-family=\"Times New Roman,serif\" font-size=\"14.00\" text-anchor=\"middle\" x=\"607.5\" y=\"-695.3\">(None, 1)</text>\n",
       "<polyline fill=\"none\" points=\"572.5,-687.5 642.5,-687.5 \" stroke=\"black\"/>\n",
       "<text font-family=\"Times New Roman,serif\" font-size=\"14.00\" text-anchor=\"middle\" x=\"607.5\" y=\"-672.3\">(None, 1)</text>\n",
       "</g>\n",
       "<!-- 2907165290848 -->\n",
       "<g class=\"node\" id=\"node4\"><title>2907165290848</title>\n",
       "<polygon fill=\"none\" points=\"363.5,-581.5 363.5,-627.5 685.5,-627.5 685.5,-581.5 363.5,-581.5\" stroke=\"black\"/>\n",
       "<text font-family=\"Times New Roman,serif\" font-size=\"14.00\" text-anchor=\"middle\" x=\"454.5\" y=\"-600.8\">User-Embedding: Embedding</text>\n",
       "<polyline fill=\"none\" points=\"545.5,-581.5 545.5,-627.5 \" stroke=\"black\"/>\n",
       "<text font-family=\"Times New Roman,serif\" font-size=\"14.00\" text-anchor=\"middle\" x=\"573.5\" y=\"-612.3\">input:</text>\n",
       "<polyline fill=\"none\" points=\"545.5,-604.5 601.5,-604.5 \" stroke=\"black\"/>\n",
       "<text font-family=\"Times New Roman,serif\" font-size=\"14.00\" text-anchor=\"middle\" x=\"573.5\" y=\"-589.3\">output:</text>\n",
       "<polyline fill=\"none\" points=\"601.5,-581.5 601.5,-627.5 \" stroke=\"black\"/>\n",
       "<text font-family=\"Times New Roman,serif\" font-size=\"14.00\" text-anchor=\"middle\" x=\"643.5\" y=\"-612.3\">(None, 1)</text>\n",
       "<polyline fill=\"none\" points=\"601.5,-604.5 685.5,-604.5 \" stroke=\"black\"/>\n",
       "<text font-family=\"Times New Roman,serif\" font-size=\"14.00\" text-anchor=\"middle\" x=\"643.5\" y=\"-589.3\">(None, 1, 5)</text>\n",
       "</g>\n",
       "<!-- 2907155951856&#45;&gt;2907165290848 -->\n",
       "<g class=\"edge\" id=\"edge2\"><title>2907155951856-&gt;2907165290848</title>\n",
       "<path d=\"M524.5,-664.366C524.5,-656.152 524.5,-646.658 524.5,-637.725\" fill=\"none\" stroke=\"black\"/>\n",
       "<polygon fill=\"black\" points=\"528,-637.607 524.5,-627.607 521,-637.607 528,-637.607\" stroke=\"black\"/>\n",
       "</g>\n",
       "<!-- 2907151843792 -->\n",
       "<g class=\"node\" id=\"node5\"><title>2907151843792</title>\n",
       "<polygon fill=\"none\" points=\"55.5,-498.5 55.5,-544.5 343.5,-544.5 343.5,-498.5 55.5,-498.5\" stroke=\"black\"/>\n",
       "<text font-family=\"Times New Roman,serif\" font-size=\"14.00\" text-anchor=\"middle\" x=\"129.5\" y=\"-517.8\">FlattenBusiness: Flatten</text>\n",
       "<polyline fill=\"none\" points=\"203.5,-498.5 203.5,-544.5 \" stroke=\"black\"/>\n",
       "<text font-family=\"Times New Roman,serif\" font-size=\"14.00\" text-anchor=\"middle\" x=\"231.5\" y=\"-529.3\">input:</text>\n",
       "<polyline fill=\"none\" points=\"203.5,-521.5 259.5,-521.5 \" stroke=\"black\"/>\n",
       "<text font-family=\"Times New Roman,serif\" font-size=\"14.00\" text-anchor=\"middle\" x=\"231.5\" y=\"-506.3\">output:</text>\n",
       "<polyline fill=\"none\" points=\"259.5,-498.5 259.5,-544.5 \" stroke=\"black\"/>\n",
       "<text font-family=\"Times New Roman,serif\" font-size=\"14.00\" text-anchor=\"middle\" x=\"301.5\" y=\"-529.3\">(None, 1, 8)</text>\n",
       "<polyline fill=\"none\" points=\"259.5,-521.5 343.5,-521.5 \" stroke=\"black\"/>\n",
       "<text font-family=\"Times New Roman,serif\" font-size=\"14.00\" text-anchor=\"middle\" x=\"301.5\" y=\"-506.3\">(None, 8)</text>\n",
       "</g>\n",
       "<!-- 2907165290680&#45;&gt;2907151843792 -->\n",
       "<g class=\"edge\" id=\"edge3\"><title>2907165290680-&gt;2907151843792</title>\n",
       "<path d=\"M179.878,-581.366C182.676,-572.973 185.918,-563.245 188.952,-554.143\" fill=\"none\" stroke=\"black\"/>\n",
       "<polygon fill=\"black\" points=\"192.289,-555.201 192.131,-544.607 185.648,-552.987 192.289,-555.201\" stroke=\"black\"/>\n",
       "</g>\n",
       "<!-- 2907152245592 -->\n",
       "<g class=\"node\" id=\"node6\"><title>2907152245592</title>\n",
       "<polygon fill=\"none\" points=\"375,-498.5 375,-544.5 646,-544.5 646,-498.5 375,-498.5\" stroke=\"black\"/>\n",
       "<text font-family=\"Times New Roman,serif\" font-size=\"14.00\" text-anchor=\"middle\" x=\"440.5\" y=\"-517.8\">FlattenUsers: Flatten</text>\n",
       "<polyline fill=\"none\" points=\"506,-498.5 506,-544.5 \" stroke=\"black\"/>\n",
       "<text font-family=\"Times New Roman,serif\" font-size=\"14.00\" text-anchor=\"middle\" x=\"534\" y=\"-529.3\">input:</text>\n",
       "<polyline fill=\"none\" points=\"506,-521.5 562,-521.5 \" stroke=\"black\"/>\n",
       "<text font-family=\"Times New Roman,serif\" font-size=\"14.00\" text-anchor=\"middle\" x=\"534\" y=\"-506.3\">output:</text>\n",
       "<polyline fill=\"none\" points=\"562,-498.5 562,-544.5 \" stroke=\"black\"/>\n",
       "<text font-family=\"Times New Roman,serif\" font-size=\"14.00\" text-anchor=\"middle\" x=\"604\" y=\"-529.3\">(None, 1, 5)</text>\n",
       "<polyline fill=\"none\" points=\"562,-521.5 646,-521.5 \" stroke=\"black\"/>\n",
       "<text font-family=\"Times New Roman,serif\" font-size=\"14.00\" text-anchor=\"middle\" x=\"604\" y=\"-506.3\">(None, 5)</text>\n",
       "</g>\n",
       "<!-- 2907165290848&#45;&gt;2907152245592 -->\n",
       "<g class=\"edge\" id=\"edge4\"><title>2907165290848-&gt;2907152245592</title>\n",
       "<path d=\"M520.674,-581.366C519.255,-573.152 517.614,-563.658 516.07,-554.725\" fill=\"none\" stroke=\"black\"/>\n",
       "<polygon fill=\"black\" points=\"519.473,-553.865 514.321,-544.607 512.575,-555.057 519.473,-553.865\" stroke=\"black\"/>\n",
       "</g>\n",
       "<!-- 2907160808976 -->\n",
       "<g class=\"node\" id=\"node7\"><title>2907160808976</title>\n",
       "<polygon fill=\"none\" points=\"89.5,-415.5 89.5,-461.5 345.5,-461.5 345.5,-415.5 89.5,-415.5\" stroke=\"black\"/>\n",
       "<text font-family=\"Times New Roman,serif\" font-size=\"14.00\" text-anchor=\"middle\" x=\"154.5\" y=\"-434.8\">dropout_4: Dropout</text>\n",
       "<polyline fill=\"none\" points=\"219.5,-415.5 219.5,-461.5 \" stroke=\"black\"/>\n",
       "<text font-family=\"Times New Roman,serif\" font-size=\"14.00\" text-anchor=\"middle\" x=\"247.5\" y=\"-446.3\">input:</text>\n",
       "<polyline fill=\"none\" points=\"219.5,-438.5 275.5,-438.5 \" stroke=\"black\"/>\n",
       "<text font-family=\"Times New Roman,serif\" font-size=\"14.00\" text-anchor=\"middle\" x=\"247.5\" y=\"-423.3\">output:</text>\n",
       "<polyline fill=\"none\" points=\"275.5,-415.5 275.5,-461.5 \" stroke=\"black\"/>\n",
       "<text font-family=\"Times New Roman,serif\" font-size=\"14.00\" text-anchor=\"middle\" x=\"310.5\" y=\"-446.3\">(None, 8)</text>\n",
       "<polyline fill=\"none\" points=\"275.5,-438.5 345.5,-438.5 \" stroke=\"black\"/>\n",
       "<text font-family=\"Times New Roman,serif\" font-size=\"14.00\" text-anchor=\"middle\" x=\"310.5\" y=\"-423.3\">(None, 8)</text>\n",
       "</g>\n",
       "<!-- 2907151843792&#45;&gt;2907160808976 -->\n",
       "<g class=\"edge\" id=\"edge5\"><title>2907151843792-&gt;2907160808976</title>\n",
       "<path d=\"M204.419,-498.366C206.264,-490.062 208.4,-480.451 210.404,-471.434\" fill=\"none\" stroke=\"black\"/>\n",
       "<polygon fill=\"black\" points=\"213.835,-472.128 212.587,-461.607 207.001,-470.609 213.835,-472.128\" stroke=\"black\"/>\n",
       "</g>\n",
       "<!-- 2907161927976 -->\n",
       "<g class=\"node\" id=\"node8\"><title>2907161927976</title>\n",
       "<polygon fill=\"none\" points=\"372.5,-415.5 372.5,-461.5 628.5,-461.5 628.5,-415.5 372.5,-415.5\" stroke=\"black\"/>\n",
       "<text font-family=\"Times New Roman,serif\" font-size=\"14.00\" text-anchor=\"middle\" x=\"437.5\" y=\"-434.8\">dropout_5: Dropout</text>\n",
       "<polyline fill=\"none\" points=\"502.5,-415.5 502.5,-461.5 \" stroke=\"black\"/>\n",
       "<text font-family=\"Times New Roman,serif\" font-size=\"14.00\" text-anchor=\"middle\" x=\"530.5\" y=\"-446.3\">input:</text>\n",
       "<polyline fill=\"none\" points=\"502.5,-438.5 558.5,-438.5 \" stroke=\"black\"/>\n",
       "<text font-family=\"Times New Roman,serif\" font-size=\"14.00\" text-anchor=\"middle\" x=\"530.5\" y=\"-423.3\">output:</text>\n",
       "<polyline fill=\"none\" points=\"558.5,-415.5 558.5,-461.5 \" stroke=\"black\"/>\n",
       "<text font-family=\"Times New Roman,serif\" font-size=\"14.00\" text-anchor=\"middle\" x=\"593.5\" y=\"-446.3\">(None, 5)</text>\n",
       "<polyline fill=\"none\" points=\"558.5,-438.5 628.5,-438.5 \" stroke=\"black\"/>\n",
       "<text font-family=\"Times New Roman,serif\" font-size=\"14.00\" text-anchor=\"middle\" x=\"593.5\" y=\"-423.3\">(None, 5)</text>\n",
       "</g>\n",
       "<!-- 2907152245592&#45;&gt;2907161927976 -->\n",
       "<g class=\"edge\" id=\"edge6\"><title>2907152245592-&gt;2907161927976</title>\n",
       "<path d=\"M507.767,-498.366C506.753,-490.152 505.581,-480.658 504.478,-471.725\" fill=\"none\" stroke=\"black\"/>\n",
       "<polygon fill=\"black\" points=\"507.928,-471.103 503.229,-461.607 500.981,-471.96 507.928,-471.103\" stroke=\"black\"/>\n",
       "</g>\n",
       "<!-- 2907160904480 -->\n",
       "<g class=\"node\" id=\"node9\"><title>2907160904480</title>\n",
       "<polygon fill=\"none\" points=\"174,-332.5 174,-378.5 543,-378.5 543,-332.5 174,-332.5\" stroke=\"black\"/>\n",
       "<text font-family=\"Times New Roman,serif\" font-size=\"14.00\" text-anchor=\"middle\" x=\"260.5\" y=\"-351.8\">concatenate_2: Concatenate</text>\n",
       "<polyline fill=\"none\" points=\"347,-332.5 347,-378.5 \" stroke=\"black\"/>\n",
       "<text font-family=\"Times New Roman,serif\" font-size=\"14.00\" text-anchor=\"middle\" x=\"375\" y=\"-363.3\">input:</text>\n",
       "<polyline fill=\"none\" points=\"347,-355.5 403,-355.5 \" stroke=\"black\"/>\n",
       "<text font-family=\"Times New Roman,serif\" font-size=\"14.00\" text-anchor=\"middle\" x=\"375\" y=\"-340.3\">output:</text>\n",
       "<polyline fill=\"none\" points=\"403,-332.5 403,-378.5 \" stroke=\"black\"/>\n",
       "<text font-family=\"Times New Roman,serif\" font-size=\"14.00\" text-anchor=\"middle\" x=\"473\" y=\"-363.3\">[(None, 8), (None, 5)]</text>\n",
       "<polyline fill=\"none\" points=\"403,-355.5 543,-355.5 \" stroke=\"black\"/>\n",
       "<text font-family=\"Times New Roman,serif\" font-size=\"14.00\" text-anchor=\"middle\" x=\"473\" y=\"-340.3\">(None, 13)</text>\n",
       "</g>\n",
       "<!-- 2907160808976&#45;&gt;2907160904480 -->\n",
       "<g class=\"edge\" id=\"edge7\"><title>2907160808976-&gt;2907160904480</title>\n",
       "<path d=\"M256.029,-415.366C272.971,-405.634 293.038,-394.106 310.904,-383.842\" fill=\"none\" stroke=\"black\"/>\n",
       "<polygon fill=\"black\" points=\"313.09,-386.623 320.018,-378.607 309.603,-380.553 313.09,-386.623\" stroke=\"black\"/>\n",
       "</g>\n",
       "<!-- 2907161927976&#45;&gt;2907160904480 -->\n",
       "<g class=\"edge\" id=\"edge8\"><title>2907161927976-&gt;2907160904480</title>\n",
       "<path d=\"M461.698,-415.366C444.636,-405.634 424.426,-394.106 406.434,-383.842\" fill=\"none\" stroke=\"black\"/>\n",
       "<polygon fill=\"black\" points=\"407.676,-380.522 397.255,-378.607 404.207,-386.602 407.676,-380.522\" stroke=\"black\"/>\n",
       "</g>\n",
       "<!-- 2907152092520 -->\n",
       "<g class=\"node\" id=\"node10\"><title>2907152092520</title>\n",
       "<polygon fill=\"none\" points=\"210,-249.5 210,-295.5 507,-295.5 507,-249.5 210,-249.5\" stroke=\"black\"/>\n",
       "<text font-family=\"Times New Roman,serif\" font-size=\"14.00\" text-anchor=\"middle\" x=\"289\" y=\"-268.8\">FullyConnected-1: Dense</text>\n",
       "<polyline fill=\"none\" points=\"368,-249.5 368,-295.5 \" stroke=\"black\"/>\n",
       "<text font-family=\"Times New Roman,serif\" font-size=\"14.00\" text-anchor=\"middle\" x=\"396\" y=\"-280.3\">input:</text>\n",
       "<polyline fill=\"none\" points=\"368,-272.5 424,-272.5 \" stroke=\"black\"/>\n",
       "<text font-family=\"Times New Roman,serif\" font-size=\"14.00\" text-anchor=\"middle\" x=\"396\" y=\"-257.3\">output:</text>\n",
       "<polyline fill=\"none\" points=\"424,-249.5 424,-295.5 \" stroke=\"black\"/>\n",
       "<text font-family=\"Times New Roman,serif\" font-size=\"14.00\" text-anchor=\"middle\" x=\"465.5\" y=\"-280.3\">(None, 13)</text>\n",
       "<polyline fill=\"none\" points=\"424,-272.5 507,-272.5 \" stroke=\"black\"/>\n",
       "<text font-family=\"Times New Roman,serif\" font-size=\"14.00\" text-anchor=\"middle\" x=\"465.5\" y=\"-257.3\">(None, 100)</text>\n",
       "</g>\n",
       "<!-- 2907160904480&#45;&gt;2907152092520 -->\n",
       "<g class=\"edge\" id=\"edge9\"><title>2907160904480-&gt;2907152092520</title>\n",
       "<path d=\"M358.5,-332.366C358.5,-324.152 358.5,-314.658 358.5,-305.725\" fill=\"none\" stroke=\"black\"/>\n",
       "<polygon fill=\"black\" points=\"362,-305.607 358.5,-295.607 355,-305.607 362,-305.607\" stroke=\"black\"/>\n",
       "</g>\n",
       "<!-- 2907152415432 -->\n",
       "<g class=\"node\" id=\"node11\"><title>2907152415432</title>\n",
       "<polygon fill=\"none\" points=\"210,-166.5 210,-212.5 507,-212.5 507,-166.5 210,-166.5\" stroke=\"black\"/>\n",
       "<text font-family=\"Times New Roman,serif\" font-size=\"14.00\" text-anchor=\"middle\" x=\"289\" y=\"-185.8\">FullyConnected-2: Dense</text>\n",
       "<polyline fill=\"none\" points=\"368,-166.5 368,-212.5 \" stroke=\"black\"/>\n",
       "<text font-family=\"Times New Roman,serif\" font-size=\"14.00\" text-anchor=\"middle\" x=\"396\" y=\"-197.3\">input:</text>\n",
       "<polyline fill=\"none\" points=\"368,-189.5 424,-189.5 \" stroke=\"black\"/>\n",
       "<text font-family=\"Times New Roman,serif\" font-size=\"14.00\" text-anchor=\"middle\" x=\"396\" y=\"-174.3\">output:</text>\n",
       "<polyline fill=\"none\" points=\"424,-166.5 424,-212.5 \" stroke=\"black\"/>\n",
       "<text font-family=\"Times New Roman,serif\" font-size=\"14.00\" text-anchor=\"middle\" x=\"465.5\" y=\"-197.3\">(None, 100)</text>\n",
       "<polyline fill=\"none\" points=\"424,-189.5 507,-189.5 \" stroke=\"black\"/>\n",
       "<text font-family=\"Times New Roman,serif\" font-size=\"14.00\" text-anchor=\"middle\" x=\"465.5\" y=\"-174.3\">(None, 50)</text>\n",
       "</g>\n",
       "<!-- 2907152092520&#45;&gt;2907152415432 -->\n",
       "<g class=\"edge\" id=\"edge10\"><title>2907152092520-&gt;2907152415432</title>\n",
       "<path d=\"M358.5,-249.366C358.5,-241.152 358.5,-231.658 358.5,-222.725\" fill=\"none\" stroke=\"black\"/>\n",
       "<polygon fill=\"black\" points=\"362,-222.607 358.5,-212.607 355,-222.607 362,-222.607\" stroke=\"black\"/>\n",
       "</g>\n",
       "<!-- 2907152511664 -->\n",
       "<g class=\"node\" id=\"node12\"><title>2907152511664</title>\n",
       "<polygon fill=\"none\" points=\"213,-83.5 213,-129.5 504,-129.5 504,-83.5 213,-83.5\" stroke=\"black\"/>\n",
       "<text font-family=\"Times New Roman,serif\" font-size=\"14.00\" text-anchor=\"middle\" x=\"292\" y=\"-102.8\">FullyConnected-3: Dense</text>\n",
       "<polyline fill=\"none\" points=\"371,-83.5 371,-129.5 \" stroke=\"black\"/>\n",
       "<text font-family=\"Times New Roman,serif\" font-size=\"14.00\" text-anchor=\"middle\" x=\"399\" y=\"-114.3\">input:</text>\n",
       "<polyline fill=\"none\" points=\"371,-106.5 427,-106.5 \" stroke=\"black\"/>\n",
       "<text font-family=\"Times New Roman,serif\" font-size=\"14.00\" text-anchor=\"middle\" x=\"399\" y=\"-91.3\">output:</text>\n",
       "<polyline fill=\"none\" points=\"427,-83.5 427,-129.5 \" stroke=\"black\"/>\n",
       "<text font-family=\"Times New Roman,serif\" font-size=\"14.00\" text-anchor=\"middle\" x=\"465.5\" y=\"-114.3\">(None, 50)</text>\n",
       "<polyline fill=\"none\" points=\"427,-106.5 504,-106.5 \" stroke=\"black\"/>\n",
       "<text font-family=\"Times New Roman,serif\" font-size=\"14.00\" text-anchor=\"middle\" x=\"465.5\" y=\"-91.3\">(None, 20)</text>\n",
       "</g>\n",
       "<!-- 2907152415432&#45;&gt;2907152511664 -->\n",
       "<g class=\"edge\" id=\"edge11\"><title>2907152415432-&gt;2907152511664</title>\n",
       "<path d=\"M358.5,-166.366C358.5,-158.152 358.5,-148.658 358.5,-139.725\" fill=\"none\" stroke=\"black\"/>\n",
       "<polygon fill=\"black\" points=\"362,-139.607 358.5,-129.607 355,-139.607 362,-139.607\" stroke=\"black\"/>\n",
       "</g>\n",
       "<!-- 2907152326048 -->\n",
       "<g class=\"node\" id=\"node13\"><title>2907152326048</title>\n",
       "<polygon fill=\"none\" points=\"234.5,-0.5 234.5,-46.5 482.5,-46.5 482.5,-0.5 234.5,-0.5\" stroke=\"black\"/>\n",
       "<text font-family=\"Times New Roman,serif\" font-size=\"14.00\" text-anchor=\"middle\" x=\"292\" y=\"-19.8\">Activation: Dense</text>\n",
       "<polyline fill=\"none\" points=\"349.5,-0.5 349.5,-46.5 \" stroke=\"black\"/>\n",
       "<text font-family=\"Times New Roman,serif\" font-size=\"14.00\" text-anchor=\"middle\" x=\"377.5\" y=\"-31.3\">input:</text>\n",
       "<polyline fill=\"none\" points=\"349.5,-23.5 405.5,-23.5 \" stroke=\"black\"/>\n",
       "<text font-family=\"Times New Roman,serif\" font-size=\"14.00\" text-anchor=\"middle\" x=\"377.5\" y=\"-8.3\">output:</text>\n",
       "<polyline fill=\"none\" points=\"405.5,-0.5 405.5,-46.5 \" stroke=\"black\"/>\n",
       "<text font-family=\"Times New Roman,serif\" font-size=\"14.00\" text-anchor=\"middle\" x=\"444\" y=\"-31.3\">(None, 20)</text>\n",
       "<polyline fill=\"none\" points=\"405.5,-23.5 482.5,-23.5 \" stroke=\"black\"/>\n",
       "<text font-family=\"Times New Roman,serif\" font-size=\"14.00\" text-anchor=\"middle\" x=\"444\" y=\"-8.3\">(None, 1)</text>\n",
       "</g>\n",
       "<!-- 2907152511664&#45;&gt;2907152326048 -->\n",
       "<g class=\"edge\" id=\"edge12\"><title>2907152511664-&gt;2907152326048</title>\n",
       "<path d=\"M358.5,-83.3664C358.5,-75.1516 358.5,-65.6579 358.5,-56.7252\" fill=\"none\" stroke=\"black\"/>\n",
       "<polygon fill=\"black\" points=\"362,-56.6068 358.5,-46.6068 355,-56.6069 362,-56.6068\" stroke=\"black\"/>\n",
       "</g>\n",
       "</g>\n",
       "</svg>"
      ],
      "text/plain": [
       "<IPython.core.display.SVG object>"
      ]
     },
     "execution_count": 82,
     "metadata": {},
     "output_type": "execute_result"
    }
   ],
   "source": [
    "#SVG(model_to_dot(model,  show_shapes=True, show_layer_names=True, rankdir='HB').create(prog='dot', format='svg'))"
   ]
  },
  {
   "cell_type": "code",
   "execution_count": null,
   "metadata": {},
   "outputs": [
    {
     "name": "stdout",
     "output_type": "stream",
     "text": [
      "Epoch 1/5\n",
      "134381/134381 [==============================] - 112s 830us/step - loss: 0.7724 - acc: 0.4208\n",
      "Epoch 2/5\n",
      "134381/134381 [==============================] - 109s 811us/step - loss: 0.7466 - acc: 0.4388\n",
      "Epoch 3/5\n",
      "134381/134381 [==============================] - 110s 817us/step - loss: 0.7254 - acc: 0.4567\n",
      "Epoch 4/5\n",
      "134112/134381 [============================>.] - ETA: 0s - loss: 0.7173 - acc: 0.4631"
     ]
    }
   ],
   "source": [
    "Userembedding = model.fit([trainkeras['idxuserId'], trainkeras['idxitemId']], trainkeras['Rating'], epochs=5, verbose=1)"
   ]
  },
  {
   "cell_type": "code",
   "execution_count": 93,
   "metadata": {
    "scrolled": false
   },
   "outputs": [
    {
     "data": {
      "text/plain": [
       "Text(0, 0.5, 'Train Error')"
      ]
     },
     "execution_count": 93,
     "metadata": {},
     "output_type": "execute_result"
    },
    {
     "data": {
      "image/png": "[encoded data removed]",
      "text/plain": [
       "<Figure size 432x288 with 1 Axes>"
      ]
     },
     "metadata": {
      "needs_background": "light"
     },
     "output_type": "display_data"
    }
   ],
   "source": [
    "pd.Series(Userembedding.history['loss']).plot()#logy=True)\n",
    "plt.xlabel(\"Epoch\")\n",
    "plt.ylabel(\"Train Error\")"
   ]
  },
  {
   "cell_type": "code",
   "execution_count": 28,
   "metadata": {},
   "outputs": [
    {
     "data": {
      "text/plain": [
       "mean    0.760772\n",
       "dtype: float64"
      ]
     },
     "execution_count": 28,
     "metadata": {},
     "output_type": "execute_result"
    }
   ],
   "source": [
    "Embedding_loss = pd.DataFrame(Userembedding.history['loss'], columns=['mean'])\n",
    "Embedding_loss.mean()"
   ]
  },
  {
   "cell_type": "code",
   "execution_count": 112,
   "metadata": {},
   "outputs": [],
   "source": [
    "y_pred = np.round(model.predict([testkeras['idxuserId'], testkeras['idxitemId']]),0)\n",
    "y_true = np.array(testkeras['Rating'])"
   ]
  },
  {
   "cell_type": "code",
   "execution_count": 114,
   "metadata": {},
   "outputs": [],
   "source": [
    "a = keras.losses.mean_squared_error(y_true, y_pred)"
   ]
  },
  {
   "cell_type": "code",
   "execution_count": 111,
   "metadata": {},
   "outputs": [
    {
     "data": {
      "text/plain": [
       "0.7347660115933833"
      ]
     },
     "execution_count": 111,
     "metadata": {},
     "output_type": "execute_result"
    }
   ],
   "source": [
    "from sklearn.metrics import mean_squared_error, mean_absolute_error\n",
    "mean_absolute_error(y_true, y_pred)"
   ]
  },
  {
   "cell_type": "markdown",
   "metadata": {},
   "source": [
    "# serialize model to JSON\n",
    "#model_json = model.to_json()\n",
    "#with open(\"model.json\", \"w\") as json_file:\n",
    "#    json_file.write(model_json)\n",
    "# serialize weights to HDF5\n",
    "#model.save_weights(\"model.h5\")\n",
    "#print(\"Saved model to disk\")\n",
    " \n",
    "# later...\n",
    " \n",
    "# load json and create model\n",
    "json_file = open('model.json', 'r')\n",
    "loaded_model_json = json_file.read()\n",
    "json_file.close()\n",
    "loaded_model = model_from_json(loaded_model_json)\n",
    "# load weights into new model\n",
    "loaded_model.load_weights(\"model.h5\")\n",
    "print(\"Loaded model from disk\")\n",
    " \n",
    "# evaluate loaded model on test data\n",
    "loaded_model.compile(loss='mean_absolute_error', optimizer='adam', metrics=['accuracy'])\n",
    "#score = loaded_model.evaluate(y_pred, y_true, verbose=1)\n",
    "#print(\"%s: %.2f%%\" % (loaded_model.metrics_names[1], score[1]*100))"
   ]
  },
  {
   "cell_type": "markdown",
   "metadata": {},
   "source": [
    "## Analysis"
   ]
  },
  {
   "cell_type": "code",
   "execution_count": 62,
   "metadata": {},
   "outputs": [
    {
     "data": {
      "text/plain": [
       "(141455, 5)"
      ]
     },
     "execution_count": 62,
     "metadata": {},
     "output_type": "execute_result"
    }
   ],
   "source": [
    "# Extract embeddings\n",
    "user_layer = model.get_layer('User-Embedding')\n",
    "user_weights = user_layer.get_weights()[0]\n",
    "user_weights.shape"
   ]
  },
  {
   "cell_type": "code",
   "execution_count": 64,
   "metadata": {},
   "outputs": [],
   "source": [
    "np.savetxt('user_weights.tsv', user_weights,delimiter='\\t') "
   ]
  },
  {
   "cell_type": "markdown",
   "metadata": {},
   "source": [
    "#### We need to normalize the embeddings so that the dot product between two embeddings becomes the cosine similarity."
   ]
  },
  {
   "cell_type": "code",
   "execution_count": 30,
   "metadata": {},
   "outputs": [
    {
     "data": {
      "text/plain": [
       "0.99999994"
      ]
     },
     "execution_count": 30,
     "metadata": {},
     "output_type": "execute_result"
    }
   ],
   "source": [
    "user_weights = user_weights / np.linalg.norm(user_weights, axis = 1).reshape((-1, 1))\n",
    "user_weights[0]\n",
    "np.sum(np.square(user_weights[0]))"
   ]
  },
  {
   "cell_type": "code",
   "execution_count": 31,
   "metadata": {},
   "outputs": [
    {
     "data": {
      "text/plain": [
       "array([[-0.11901186,  0.6920312 , -0.67281824,  0.16760524, -0.16171905],\n",
       "       [ 0.4140797 , -0.34450883,  0.4988439 , -0.48611283, -0.47402617],\n",
       "       [-0.29886314,  0.2824517 , -0.5374465 ,  0.5806535 ,  0.4526529 ],\n",
       "       ...,\n",
       "       [ 0.7896902 , -0.47650966, -0.17648344,  0.33844942,  0.06027839],\n",
       "       [ 0.43961066,  0.60045695,  0.38583425, -0.33245078, -0.4322063 ],\n",
       "       [-0.21988791, -0.46315482,  0.45813334,  0.53455395, -0.49142948]],\n",
       "      dtype=float32)"
      ]
     },
     "execution_count": 31,
     "metadata": {},
     "output_type": "execute_result"
    }
   ],
   "source": [
    "user_weights"
   ]
  },
  {
   "cell_type": "markdown",
   "metadata": {},
   "source": [
    "### Top 5 closest Users"
   ]
  },
  {
   "cell_type": "code",
   "execution_count": 49,
   "metadata": {},
   "outputs": [
    {
     "data": {
      "text/plain": [
       "array([137853,  94385, 131016, 106697,      0], dtype=int64)"
      ]
     },
     "execution_count": 49,
     "metadata": {},
     "output_type": "execute_result"
    }
   ],
   "source": [
    "dists =np.dot(user_weights,user_weights[0]) # Calculate the similarity for first user in array\n",
    "sorted_dists = np.argsort(dists) # sort the dists list return the least simlar user idx to closest \n",
    "sorted_dists[-5:] # Top 5 closest user'index"
   ]
  },
  {
   "cell_type": "markdown",
   "metadata": {},
   "source": [
    "### The similarity of cloesest user to first user in array"
   ]
  },
  {
   "cell_type": "code",
   "execution_count": 34,
   "metadata": {},
   "outputs": [
    {
     "data": {
      "text/plain": [
       "(0.99588007, 0.9959849, 0.99621785, 0.99776953, 1.0)"
      ]
     },
     "execution_count": 34,
     "metadata": {},
     "output_type": "execute_result"
    }
   ],
   "source": [
    "dists[137853],dists[94385],dists[131016],dists[106697],dists[0]"
   ]
  },
  {
   "cell_type": "code",
   "execution_count": 41,
   "metadata": {},
   "outputs": [],
   "source": [
    "#get user's id through user index\n",
    "def get_user_id_from_idx(user_idx):\n",
    "    return user_df[user_df['idxuserId']== user_idx].iloc[0][0].item()"
   ]
  },
  {
   "cell_type": "code",
   "execution_count": 42,
   "metadata": {
    "scrolled": true
   },
   "outputs": [
    {
     "data": {
      "text/plain": [
       "10000"
      ]
     },
     "execution_count": 42,
     "metadata": {},
     "output_type": "execute_result"
    }
   ],
   "source": [
    "get_user_id_from_idx(0)"
   ]
  },
  {
   "cell_type": "code",
   "execution_count": 43,
   "metadata": {},
   "outputs": [],
   "source": [
    "def get_useridx_from_userid(userid):\n",
    "    return user_df[user_df['userId']== userid].iloc[0][3].item()"
   ]
  },
  {
   "cell_type": "code",
   "execution_count": 44,
   "metadata": {
    "scrolled": true
   },
   "outputs": [
    {
     "data": {
      "text/plain": [
       "0"
      ]
     },
     "execution_count": 44,
     "metadata": {},
     "output_type": "execute_result"
    }
   ],
   "source": [
    "get_useridx_from_userid(10000)"
   ]
  },
  {
   "cell_type": "markdown",
   "metadata": {},
   "source": [
    "### Getting recommended businessid by closest user_index which ratings are greater than 3 "
   ]
  },
  {
   "cell_type": "code",
   "execution_count": 45,
   "metadata": {},
   "outputs": [],
   "source": [
    "#get recommended_businessid by user_index\n",
    "def get_recommended_businessid(user_idx,rating =3):\n",
    "    ''' Given a user index return the businessid which rating greater than 3\n",
    "        otherwise return rating smaller than 3'''\n",
    "    a = np.array(user_df[user_df['idxuserId']== user_idx]) \n",
    "    if len(a[np.where(a[:,2]>=rating)][:,1]) != 0: # Get userid by user index than return the businessid which are greater than raing\n",
    "        return a[np.where(a[:,2]>=rating)][:,1]\n",
    "    elif len(a[np.where(a[:,2]>=rating)][:,1]) == 0: # if no business' rating greater than 3 return other business\n",
    "        print(\"No business rating Greater than 3, but here are users that simlilary to you disliked business\")\n",
    "        return a[np.where(a[:,2]<=rating)][:,1]\n",
    "                  "
   ]
  },
  {
   "cell_type": "code",
   "execution_count": 47,
   "metadata": {},
   "outputs": [],
   "source": [
    "def get_business_info(business_id):\n",
    "    '''Get business's information by business Id'''\n",
    "    buslist = []\n",
    "    if isinstance(business_id, (list, tuple, np.ndarray)) == True:\n",
    "        for i in business_id:\n",
    "            print(i,business_id)\n",
    "            for a in range(0,len(business_info)):\n",
    "                if business_info[a]['business_id']==get_business_token(i):\n",
    "                    buslist.append(business_info[a])\n",
    "        return buslist\n",
    "    else:\n",
    "        for i in range(0,len(business_info)):\n",
    "            if business_info[i]['business_id']==get_business_token(business_id):\n",
    "                return business_info[i]"
   ]
  },
  {
   "cell_type": "code",
   "execution_count": 48,
   "metadata": {
    "scrolled": false
   },
   "outputs": [
    {
     "name": "stdout",
     "output_type": "stream",
     "text": [
      "0 [   0 2583 2263 1705  707 2054 1196   62  579 4553 2537  165  188 2820\n",
      " 1835  709  157  699 3108  217 1194  354  605  209 1739 2223  375 1174\n",
      " 1159  462 1449  261 4114 1816 1632 1113  664 1496   77 4270 1590]\n"
     ]
    },
    {
     "data": {
      "text/plain": [
       "[{'business_id': '9yKzy9PApeiPPOUJEtnvkg',\n",
       "  'full_address': '6106 S 32nd St\\nPhoenix, AZ 85042',\n",
       "  'open': True,\n",
       "  'categories': ['Breakfast & Brunch', 'Restaurants'],\n",
       "  'city': 'Phoenix',\n",
       "  'review_count': 116,\n",
       "  'name': 'Morning Glory Cafe',\n",
       "  'neighborhoods': [],\n",
       "  'longitude': -112.012504,\n",
       "  'state': 'AZ',\n",
       "  'stars': 4.0,\n",
       "  'latitude': 33.390792,\n",
       "  'type': 'business'}]"
      ]
     },
     "execution_count": 48,
     "metadata": {},
     "output_type": "execute_result"
    }
   ],
   "source": [
    "get_business_info(get_recommended_businessid(get_useridx_from_userid(10000), rating =5))"
   ]
  },
  {
   "cell_type": "code",
   "execution_count": 38,
   "metadata": {},
   "outputs": [
    {
     "data": {
      "text/plain": [
       "{'business_id': '04Jrd2zSzwHwmBqdKQDmIw',\n",
       " 'full_address': '929 N Dobson Rd\\nSte 102\\nMesa, AZ 85201',\n",
       " 'open': True,\n",
       " 'categories': ['Japanese', 'Restaurants'],\n",
       " 'city': 'Mesa',\n",
       " 'review_count': 11,\n",
       " 'name': 'Yogis Grill',\n",
       " 'neighborhoods': [],\n",
       " 'longitude': -111.8742667,\n",
       " 'state': 'AZ',\n",
       " 'stars': 3.5,\n",
       " 'latitude': 33.4292474,\n",
       " 'type': 'business'}"
      ]
     },
     "execution_count": 38,
     "metadata": {},
     "output_type": "execute_result"
    }
   ],
   "source": [
    "get_business_info(2583)"
   ]
  },
  {
   "cell_type": "code",
   "execution_count": null,
   "metadata": {},
   "outputs": [],
   "source": [
    "#from FindSimlar import find_similar"
   ]
  },
  {
   "cell_type": "code",
   "execution_count": null,
   "metadata": {},
   "outputs": [],
   "source": [
    "#find_similar(10000, user_weights,n=5)"
   ]
  },
  {
   "cell_type": "markdown",
   "metadata": {},
   "source": [
    "## Evaluation "
   ]
  },
  {
   "cell_type": "code",
   "execution_count": 7,
   "metadata": {},
   "outputs": [],
   "source": [
    "from lenskit import batch, topn, util\n",
    "from lenskit import crossfold as xf\n",
    "from lenskit.algorithms import Predictor, Recommender\n",
    "from lenskit.algorithms.user_knn import UserUser\n",
    "from lenskit.algorithms.item_knn import ItemItem\n",
    "from lenskit.algorithms.basic import UnratedItemCandidateSelector\n",
    "from lenskit.metrics.predict import rmse"
   ]
  },
  {
   "cell_type": "code",
   "execution_count": 8,
   "metadata": {},
   "outputs": [
    {
     "data": {
      "text/html": [
       "<div>\n",
       "<style scoped>\n",
       "    .dataframe tbody tr th:only-of-type {\n",
       "        vertical-align: middle;\n",
       "    }\n",
       "\n",
       "    .dataframe tbody tr th {\n",
       "        vertical-align: top;\n",
       "    }\n",
       "\n",
       "    .dataframe thead th {\n",
       "        text-align: right;\n",
       "    }\n",
       "</style>\n",
       "<table border=\"1\" class=\"dataframe\">\n",
       "  <thead>\n",
       "    <tr style=\"text-align: right;\">\n",
       "      <th></th>\n",
       "      <th>userId</th>\n",
       "      <th>itemId</th>\n",
       "      <th>Rating</th>\n",
       "      <th>idxuserId</th>\n",
       "      <th>idxitemId</th>\n",
       "    </tr>\n",
       "  </thead>\n",
       "  <tbody>\n",
       "    <tr>\n",
       "      <th>0</th>\n",
       "      <td>10000</td>\n",
       "      <td>0</td>\n",
       "      <td>5</td>\n",
       "      <td>0</td>\n",
       "      <td>0</td>\n",
       "    </tr>\n",
       "    <tr>\n",
       "      <th>1</th>\n",
       "      <td>10001</td>\n",
       "      <td>1</td>\n",
       "      <td>5</td>\n",
       "      <td>1</td>\n",
       "      <td>1</td>\n",
       "    </tr>\n",
       "    <tr>\n",
       "      <th>2</th>\n",
       "      <td>10002</td>\n",
       "      <td>2</td>\n",
       "      <td>5</td>\n",
       "      <td>2</td>\n",
       "      <td>2</td>\n",
       "    </tr>\n",
       "    <tr>\n",
       "      <th>3</th>\n",
       "      <td>10003</td>\n",
       "      <td>3</td>\n",
       "      <td>4</td>\n",
       "      <td>3</td>\n",
       "      <td>3</td>\n",
       "    </tr>\n",
       "    <tr>\n",
       "      <th>4</th>\n",
       "      <td>10004</td>\n",
       "      <td>4</td>\n",
       "      <td>5</td>\n",
       "      <td>4</td>\n",
       "      <td>4</td>\n",
       "    </tr>\n",
       "  </tbody>\n",
       "</table>\n",
       "</div>"
      ],
      "text/plain": [
       "   userId  itemId  Rating  idxuserId  idxitemId\n",
       "0   10000       0       5          0          0\n",
       "1   10001       1       5          1          1\n",
       "2   10002       2       5          2          2\n",
       "3   10003       3       4          3          3\n",
       "4   10004       4       5          4          4"
      ]
     },
     "execution_count": 8,
     "metadata": {},
     "output_type": "execute_result"
    }
   ],
   "source": [
    "user_df.head()"
   ]
  },
  {
   "cell_type": "code",
   "execution_count": 30,
   "metadata": {},
   "outputs": [
    {
     "data": {
      "text/plain": [
       "252"
      ]
     },
     "execution_count": 30,
     "metadata": {},
     "output_type": "execute_result"
    }
   ],
   "source": [
    "len(ratings_df[ratings_df['user']==521]['item'])"
   ]
  },
  {
   "cell_type": "code",
   "execution_count": 29,
   "metadata": {},
   "outputs": [
    {
     "data": {
      "text/plain": [
       "251"
      ]
     },
     "execution_count": 29,
     "metadata": {},
     "output_type": "execute_result"
    }
   ],
   "source": [
    "ratings_df = user_df[['idxuserId','idxitemId','Rating']]\n",
    "ratings_df.columns = ('user', 'item', 'rating')\n",
    "len(ratings_df[ratings_df['user']==521]['item'].unique())"
   ]
  },
  {
   "cell_type": "code",
   "execution_count": 10,
   "metadata": {},
   "outputs": [],
   "source": [
    "user_knn = UserUser(nnbrs=5, min_sim=0.1, center=True, aggregate='weighted-average')\n",
    "item_knn = ItemItem(nnbrs=5, min_sim=0.1, center=True, aggregate='weighted-average')"
   ]
  },
  {
   "cell_type": "code",
   "execution_count": 11,
   "metadata": {},
   "outputs": [],
   "source": [
    "def eval_recs(aname, fold, algo, train, test):\n",
    "    fittable = util.clone(algo)\n",
    "    fittable = Recommender.adapt(fittable)\n",
    "    fittable.fit(train)\n",
    "    \n",
    "    users = test.user.unique()\n",
    "    recs = batch.recommend(fittable, users, 10)\n",
    "    # add the algorithm\n",
    "    recs['Algorithm'] = aname\n",
    "    recs['Fold'] = fold\n",
    "    return recs"
   ]
  },
  {
   "cell_type": "code",
   "execution_count": 12,
   "metadata": {},
   "outputs": [],
   "source": [
    "def eval_preds(aname, fold, algo, train, test):\n",
    "    fittable = util.clone(algo)\n",
    "    fittable.fit(train)\n",
    "    \n",
    "    preds = batch.predict(fittable, test)\n",
    "    preds['Algorithm'] = aname\n",
    "    preds['Fold'] = fold\n",
    "    return preds"
   ]
  },
  {
   "cell_type": "code",
   "execution_count": 13,
   "metadata": {},
   "outputs": [
    {
     "name": "stderr",
     "output_type": "stream",
     "text": [
      "C:\\Users\\Xiaobai\\.conda\\envs\\deeplearning\\lib\\site-packages\\lenskit\\algorithms\\user_knn.py:89: RuntimeWarning: invalid value encountered in true_divide\n",
      "  uir.values[sp:ep] /= n\n",
      "C:\\Users\\Xiaobai\\.conda\\envs\\deeplearning\\lib\\site-packages\\lenskit\\algorithms\\user_knn.py:153: RuntimeWarning: invalid value encountered in greater_equal\n",
      "  mask = np.abs(i_sims >= 1.0e-10)\n",
      "C:\\Users\\Xiaobai\\.conda\\envs\\deeplearning\\lib\\site-packages\\lenskit\\algorithms\\user_knn.py:159: RuntimeWarning: invalid value encountered in greater_equal\n",
      "  mask = np.logical_and(mask, i_sims >= self.min_sim)\n",
      "C:\\Users\\Xiaobai\\.conda\\envs\\deeplearning\\lib\\site-packages\\lenskit\\algorithms\\user_knn.py:153: RuntimeWarning: invalid value encountered in greater_equal\n",
      "  mask = np.abs(i_sims >= 1.0e-10)\n",
      "C:\\Users\\Xiaobai\\.conda\\envs\\deeplearning\\lib\\site-packages\\lenskit\\algorithms\\user_knn.py:159: RuntimeWarning: invalid value encountered in greater_equal\n",
      "  mask = np.logical_and(mask, i_sims >= self.min_sim)\n"
     ]
    },
    {
     "name": "stdout",
     "output_type": "stream",
     "text": [
      "Completed fold 1\n"
     ]
    },
    {
     "name": "stderr",
     "output_type": "stream",
     "text": [
      "C:\\Users\\Xiaobai\\.conda\\envs\\deeplearning\\lib\\site-packages\\lenskit\\algorithms\\user_knn.py:89: RuntimeWarning: invalid value encountered in true_divide\n",
      "  uir.values[sp:ep] /= n\n",
      "C:\\Users\\Xiaobai\\.conda\\envs\\deeplearning\\lib\\site-packages\\lenskit\\algorithms\\user_knn.py:153: RuntimeWarning: invalid value encountered in greater_equal\n",
      "  mask = np.abs(i_sims >= 1.0e-10)\n",
      "C:\\Users\\Xiaobai\\.conda\\envs\\deeplearning\\lib\\site-packages\\lenskit\\algorithms\\user_knn.py:159: RuntimeWarning: invalid value encountered in greater_equal\n",
      "  mask = np.logical_and(mask, i_sims >= self.min_sim)\n"
     ]
    },
    {
     "name": "stdout",
     "output_type": "stream",
     "text": [
      "Completed fold 2\n"
     ]
    },
    {
     "name": "stderr",
     "output_type": "stream",
     "text": [
      "C:\\Users\\Xiaobai\\.conda\\envs\\deeplearning\\lib\\site-packages\\lenskit\\algorithms\\item_knn.py:319: DataWarning: user 521 has duplicate ratings, this is likely to cause problems\n",
      "  warnings.warn(wmsg, DataWarning)\n"
     ]
    },
    {
     "ename": "AssertionError",
     "evalue": "",
     "output_type": "error",
     "traceback": [
      "\u001b[1;31m---------------------------------------------------------------------------\u001b[0m",
      "\u001b[1;31mAssertionError\u001b[0m                            Traceback (most recent call last)",
      "\u001b[1;32m<ipython-input-13-965b0f747b06>\u001b[0m in \u001b[0;36m<module>\u001b[1;34m\u001b[0m\n\u001b[0;32m     13\u001b[0m     \u001b[1;31m#test_data.append(test)\u001b[0m\u001b[1;33m\u001b[0m\u001b[1;33m\u001b[0m\u001b[1;33m\u001b[0m\u001b[0m\n\u001b[0;32m     14\u001b[0m     \u001b[0mall_preds\u001b[0m\u001b[1;33m.\u001b[0m\u001b[0mappend\u001b[0m\u001b[1;33m(\u001b[0m\u001b[0meval_preds\u001b[0m\u001b[1;33m(\u001b[0m\u001b[1;34m'UserKNN'\u001b[0m\u001b[1;33m,\u001b[0m\u001b[0mfold\u001b[0m\u001b[1;33m,\u001b[0m\u001b[0muser_knn\u001b[0m\u001b[1;33m,\u001b[0m \u001b[0mtrain\u001b[0m\u001b[1;33m,\u001b[0m \u001b[0mtest\u001b[0m\u001b[1;33m)\u001b[0m\u001b[1;33m)\u001b[0m\u001b[1;33m\u001b[0m\u001b[1;33m\u001b[0m\u001b[0m\n\u001b[1;32m---> 15\u001b[1;33m     \u001b[0mall_preds\u001b[0m\u001b[1;33m.\u001b[0m\u001b[0mappend\u001b[0m\u001b[1;33m(\u001b[0m\u001b[0meval_preds\u001b[0m\u001b[1;33m(\u001b[0m\u001b[1;34m'ItemKNN'\u001b[0m\u001b[1;33m,\u001b[0m\u001b[0mfold\u001b[0m\u001b[1;33m,\u001b[0m\u001b[0mitem_knn\u001b[0m\u001b[1;33m,\u001b[0m \u001b[0mtrain\u001b[0m\u001b[1;33m,\u001b[0m \u001b[0mtest\u001b[0m\u001b[1;33m)\u001b[0m\u001b[1;33m)\u001b[0m\u001b[1;33m\u001b[0m\u001b[1;33m\u001b[0m\u001b[0m\n\u001b[0m\u001b[0;32m     16\u001b[0m \u001b[1;33m\u001b[0m\u001b[0m\n\u001b[0;32m     17\u001b[0m \u001b[1;33m\u001b[0m\u001b[0m\n",
      "\u001b[1;32m<ipython-input-12-97cd0da627cb>\u001b[0m in \u001b[0;36meval_preds\u001b[1;34m(aname, fold, algo, train, test)\u001b[0m\n\u001b[0;32m      3\u001b[0m     \u001b[0mfittable\u001b[0m\u001b[1;33m.\u001b[0m\u001b[0mfit\u001b[0m\u001b[1;33m(\u001b[0m\u001b[0mtrain\u001b[0m\u001b[1;33m)\u001b[0m\u001b[1;33m\u001b[0m\u001b[1;33m\u001b[0m\u001b[0m\n\u001b[0;32m      4\u001b[0m \u001b[1;33m\u001b[0m\u001b[0m\n\u001b[1;32m----> 5\u001b[1;33m     \u001b[0mpreds\u001b[0m \u001b[1;33m=\u001b[0m \u001b[0mbatch\u001b[0m\u001b[1;33m.\u001b[0m\u001b[0mpredict\u001b[0m\u001b[1;33m(\u001b[0m\u001b[0mfittable\u001b[0m\u001b[1;33m,\u001b[0m \u001b[0mtest\u001b[0m\u001b[1;33m)\u001b[0m\u001b[1;33m\u001b[0m\u001b[1;33m\u001b[0m\u001b[0m\n\u001b[0m\u001b[0;32m      6\u001b[0m     \u001b[0mpreds\u001b[0m\u001b[1;33m[\u001b[0m\u001b[1;34m'Algorithm'\u001b[0m\u001b[1;33m]\u001b[0m \u001b[1;33m=\u001b[0m \u001b[0maname\u001b[0m\u001b[1;33m\u001b[0m\u001b[1;33m\u001b[0m\u001b[0m\n\u001b[0;32m      7\u001b[0m     \u001b[0mpreds\u001b[0m\u001b[1;33m[\u001b[0m\u001b[1;34m'Fold'\u001b[0m\u001b[1;33m]\u001b[0m \u001b[1;33m=\u001b[0m \u001b[0mfold\u001b[0m\u001b[1;33m\u001b[0m\u001b[1;33m\u001b[0m\u001b[0m\n",
      "\u001b[1;32m~\\.conda\\envs\\deeplearning\\lib\\site-packages\\lenskit\\batch\\_predict.py\u001b[0m in \u001b[0;36mpredict\u001b[1;34m(algo, pairs, nprocs)\u001b[0m\n\u001b[0;32m     94\u001b[0m         \u001b[0mresults\u001b[0m \u001b[1;33m=\u001b[0m \u001b[1;33m[\u001b[0m\u001b[1;33m]\u001b[0m\u001b[1;33m\u001b[0m\u001b[1;33m\u001b[0m\u001b[0m\n\u001b[0;32m     95\u001b[0m         \u001b[1;32mfor\u001b[0m \u001b[0muser\u001b[0m\u001b[1;33m,\u001b[0m \u001b[0mudf\u001b[0m \u001b[1;32min\u001b[0m \u001b[0mpairs\u001b[0m\u001b[1;33m.\u001b[0m\u001b[0mgroupby\u001b[0m\u001b[1;33m(\u001b[0m\u001b[1;34m'user'\u001b[0m\u001b[1;33m)\u001b[0m\u001b[1;33m:\u001b[0m\u001b[1;33m\u001b[0m\u001b[1;33m\u001b[0m\u001b[0m\n\u001b[1;32m---> 96\u001b[1;33m             \u001b[0mres\u001b[0m \u001b[1;33m=\u001b[0m \u001b[0m_predict_user\u001b[0m\u001b[1;33m(\u001b[0m\u001b[0malgo\u001b[0m\u001b[1;33m,\u001b[0m \u001b[0muser\u001b[0m\u001b[1;33m,\u001b[0m \u001b[0mudf\u001b[0m\u001b[1;33m)\u001b[0m\u001b[1;33m\u001b[0m\u001b[1;33m\u001b[0m\u001b[0m\n\u001b[0m\u001b[0;32m     97\u001b[0m             \u001b[0mresults\u001b[0m\u001b[1;33m.\u001b[0m\u001b[0mappend\u001b[0m\u001b[1;33m(\u001b[0m\u001b[0mres\u001b[0m\u001b[1;33m)\u001b[0m\u001b[1;33m\u001b[0m\u001b[1;33m\u001b[0m\u001b[0m\n\u001b[0;32m     98\u001b[0m \u001b[1;33m\u001b[0m\u001b[0m\n",
      "\u001b[1;32m~\\.conda\\envs\\deeplearning\\lib\\site-packages\\lenskit\\batch\\_predict.py\u001b[0m in \u001b[0;36m_predict_user\u001b[1;34m(algo, user, udf)\u001b[0m\n\u001b[0;32m     30\u001b[0m \u001b[1;32mdef\u001b[0m \u001b[0m_predict_user\u001b[0m\u001b[1;33m(\u001b[0m\u001b[0malgo\u001b[0m\u001b[1;33m,\u001b[0m \u001b[0muser\u001b[0m\u001b[1;33m,\u001b[0m \u001b[0mudf\u001b[0m\u001b[1;33m)\u001b[0m\u001b[1;33m:\u001b[0m\u001b[1;33m\u001b[0m\u001b[1;33m\u001b[0m\u001b[0m\n\u001b[0;32m     31\u001b[0m     \u001b[0mwatch\u001b[0m \u001b[1;33m=\u001b[0m \u001b[0mutil\u001b[0m\u001b[1;33m.\u001b[0m\u001b[0mStopwatch\u001b[0m\u001b[1;33m(\u001b[0m\u001b[1;33m)\u001b[0m\u001b[1;33m\u001b[0m\u001b[1;33m\u001b[0m\u001b[0m\n\u001b[1;32m---> 32\u001b[1;33m     \u001b[0mres\u001b[0m \u001b[1;33m=\u001b[0m \u001b[0malgo\u001b[0m\u001b[1;33m.\u001b[0m\u001b[0mpredict_for_user\u001b[0m\u001b[1;33m(\u001b[0m\u001b[0muser\u001b[0m\u001b[1;33m,\u001b[0m \u001b[0mudf\u001b[0m\u001b[1;33m[\u001b[0m\u001b[1;34m'item'\u001b[0m\u001b[1;33m]\u001b[0m\u001b[1;33m)\u001b[0m\u001b[1;33m\u001b[0m\u001b[1;33m\u001b[0m\u001b[0m\n\u001b[0m\u001b[0;32m     33\u001b[0m     \u001b[0mres\u001b[0m \u001b[1;33m=\u001b[0m \u001b[0mpd\u001b[0m\u001b[1;33m.\u001b[0m\u001b[0mDataFrame\u001b[0m\u001b[1;33m(\u001b[0m\u001b[1;33m{\u001b[0m\u001b[1;34m'user'\u001b[0m\u001b[1;33m:\u001b[0m \u001b[0muser\u001b[0m\u001b[1;33m,\u001b[0m \u001b[1;34m'item'\u001b[0m\u001b[1;33m:\u001b[0m \u001b[0mres\u001b[0m\u001b[1;33m.\u001b[0m\u001b[0mindex\u001b[0m\u001b[1;33m,\u001b[0m \u001b[1;34m'prediction'\u001b[0m\u001b[1;33m:\u001b[0m \u001b[0mres\u001b[0m\u001b[1;33m.\u001b[0m\u001b[0mvalues\u001b[0m\u001b[1;33m}\u001b[0m\u001b[1;33m)\u001b[0m\u001b[1;33m\u001b[0m\u001b[1;33m\u001b[0m\u001b[0m\n\u001b[0;32m     34\u001b[0m     _logger.debug('%s produced %f/%d predictions for %s in %s',\n",
      "\u001b[1;32m~\\.conda\\envs\\deeplearning\\lib\\site-packages\\lenskit\\algorithms\\item_knn.py\u001b[0m in \u001b[0;36mpredict_for_user\u001b[1;34m(self, user, items, ratings)\u001b[0m\n\u001b[0;32m    331\u001b[0m             \u001b[0mrate_v\u001b[0m\u001b[1;33m[\u001b[0m\u001b[0mri_pos\u001b[0m\u001b[1;33m]\u001b[0m \u001b[1;33m=\u001b[0m \u001b[0mm_rates\u001b[0m\u001b[1;33m.\u001b[0m\u001b[0mvalues\u001b[0m\u001b[1;33m\u001b[0m\u001b[1;33m\u001b[0m\u001b[0m\n\u001b[0;32m    332\u001b[0m         \u001b[0m_logger\u001b[0m\u001b[1;33m.\u001b[0m\u001b[0mdebug\u001b[0m\u001b[1;33m(\u001b[0m\u001b[1;34m'user %s: %d of %d rated items in model'\u001b[0m\u001b[1;33m,\u001b[0m \u001b[0muser\u001b[0m\u001b[1;33m,\u001b[0m \u001b[0mlen\u001b[0m\u001b[1;33m(\u001b[0m\u001b[0mri_pos\u001b[0m\u001b[1;33m)\u001b[0m\u001b[1;33m,\u001b[0m \u001b[0mlen\u001b[0m\u001b[1;33m(\u001b[0m\u001b[0mratings\u001b[0m\u001b[1;33m)\u001b[0m\u001b[1;33m)\u001b[0m\u001b[1;33m\u001b[0m\u001b[1;33m\u001b[0m\u001b[0m\n\u001b[1;32m--> 333\u001b[1;33m         \u001b[1;32massert\u001b[0m \u001b[0mnp\u001b[0m\u001b[1;33m.\u001b[0m\u001b[0msum\u001b[0m\u001b[1;33m(\u001b[0m\u001b[0mnp\u001b[0m\u001b[1;33m.\u001b[0m\u001b[0mlogical_not\u001b[0m\u001b[1;33m(\u001b[0m\u001b[0mnp\u001b[0m\u001b[1;33m.\u001b[0m\u001b[0misnan\u001b[0m\u001b[1;33m(\u001b[0m\u001b[0mrate_v\u001b[0m\u001b[1;33m)\u001b[0m\u001b[1;33m)\u001b[0m\u001b[1;33m)\u001b[0m \u001b[1;33m==\u001b[0m \u001b[0mlen\u001b[0m\u001b[1;33m(\u001b[0m\u001b[0mri_pos\u001b[0m\u001b[1;33m)\u001b[0m\u001b[1;33m\u001b[0m\u001b[1;33m\u001b[0m\u001b[0m\n\u001b[0m\u001b[0;32m    334\u001b[0m \u001b[1;33m\u001b[0m\u001b[0m\n\u001b[0;32m    335\u001b[0m         \u001b[1;31m# set up item result vector\u001b[0m\u001b[1;33m\u001b[0m\u001b[1;33m\u001b[0m\u001b[1;33m\u001b[0m\u001b[0m\n",
      "\u001b[1;31mAssertionError\u001b[0m: "
     ]
    }
   ],
   "source": [
    "np.random.seed(20190303)\n",
    "\n",
    "all_preds = []\n",
    "fold = 1\n",
    "# HOMEWORK 3 TODO\n",
    "# Implement 5-fold cross-validation with user-based splitting\n",
    "# Call eval_preds for each algorithm, each fold\n",
    "# Results should be appended to all_preds\n",
    "#test_data = []\n",
    "\n",
    "for train, test in xf.partition_users(ratings_df[['user', 'item', 'rating']], 5, xf.SampleFrac(0.2)):\n",
    "\n",
    "    #test_data.append(test)\n",
    "    all_preds.append(eval_preds('UserKNN',fold,user_knn, train, test))\n",
    "    all_preds.append(eval_preds('ItemKNN',fold,item_knn, train, test))\n",
    "\n",
    "    \n",
    "    print(\"Completed fold {}\".format(fold))\n",
    "    fold += 1"
   ]
  },
  {
   "cell_type": "code",
   "execution_count": 16,
   "metadata": {},
   "outputs": [],
   "source": [
    "#for train, test in xf.partition_users(ratings_df[['user', 'item', 'rating']], 5, xf.SampleFrac(0.2)):\n",
    "    "
   ]
  },
  {
   "cell_type": "code",
   "execution_count": 17,
   "metadata": {},
   "outputs": [
    {
     "data": {
      "text/html": [
       "<div>\n",
       "<style scoped>\n",
       "    .dataframe tbody tr th:only-of-type {\n",
       "        vertical-align: middle;\n",
       "    }\n",
       "\n",
       "    .dataframe tbody tr th {\n",
       "        vertical-align: top;\n",
       "    }\n",
       "\n",
       "    .dataframe thead th {\n",
       "        text-align: right;\n",
       "    }\n",
       "</style>\n",
       "<table border=\"1\" class=\"dataframe\">\n",
       "  <thead>\n",
       "    <tr style=\"text-align: right;\">\n",
       "      <th></th>\n",
       "      <th>user</th>\n",
       "      <th>item</th>\n",
       "      <th>rating</th>\n",
       "      <th>prediction</th>\n",
       "      <th>Algorithm</th>\n",
       "      <th>Fold</th>\n",
       "    </tr>\n",
       "  </thead>\n",
       "  <tbody>\n",
       "    <tr>\n",
       "      <th>0</th>\n",
       "      <td>2</td>\n",
       "      <td>3177</td>\n",
       "      <td>1</td>\n",
       "      <td>NaN</td>\n",
       "      <td>UserKNN</td>\n",
       "      <td>1</td>\n",
       "    </tr>\n",
       "    <tr>\n",
       "      <th>1</th>\n",
       "      <td>2</td>\n",
       "      <td>799</td>\n",
       "      <td>2</td>\n",
       "      <td>2.715190</td>\n",
       "      <td>UserKNN</td>\n",
       "      <td>1</td>\n",
       "    </tr>\n",
       "    <tr>\n",
       "      <th>2</th>\n",
       "      <td>3</td>\n",
       "      <td>98</td>\n",
       "      <td>4</td>\n",
       "      <td>4.184505</td>\n",
       "      <td>UserKNN</td>\n",
       "      <td>1</td>\n",
       "    </tr>\n",
       "    <tr>\n",
       "      <th>3</th>\n",
       "      <td>3</td>\n",
       "      <td>139</td>\n",
       "      <td>5</td>\n",
       "      <td>3.879785</td>\n",
       "      <td>UserKNN</td>\n",
       "      <td>1</td>\n",
       "    </tr>\n",
       "    <tr>\n",
       "      <th>4</th>\n",
       "      <td>4</td>\n",
       "      <td>4631</td>\n",
       "      <td>3</td>\n",
       "      <td>4.101630</td>\n",
       "      <td>UserKNN</td>\n",
       "      <td>1</td>\n",
       "    </tr>\n",
       "  </tbody>\n",
       "</table>\n",
       "</div>"
      ],
      "text/plain": [
       "   user  item  rating  prediction Algorithm  Fold\n",
       "0     2  3177       1         NaN   UserKNN     1\n",
       "1     2   799       2    2.715190   UserKNN     1\n",
       "2     3    98       4    4.184505   UserKNN     1\n",
       "3     3   139       5    3.879785   UserKNN     1\n",
       "4     4  4631       3    4.101630   UserKNN     1"
      ]
     },
     "execution_count": 17,
     "metadata": {},
     "output_type": "execute_result"
    }
   ],
   "source": [
    "all_preds = pd.concat(all_preds, ignore_index=True)\n",
    "all_preds.head()"
   ]
  },
  {
   "cell_type": "code",
   "execution_count": 18,
   "metadata": {},
   "outputs": [
    {
     "data": {
      "text/plain": [
       "Algorithm  Fold\n",
       "UserKNN    1       1.122661\n",
       "           2       1.152257\n",
       "           3       1.115810\n",
       "           4       1.145998\n",
       "           5       1.126804\n",
       "dtype: float64"
      ]
     },
     "execution_count": 18,
     "metadata": {},
     "output_type": "execute_result"
    }
   ],
   "source": [
    "Algo_rmse = all_preds.groupby(['Algorithm','Fold']).apply(lambda all_preds: rmse(all_preds.prediction, all_preds.rating))\n",
    "Algo_rmse"
   ]
  },
  {
   "cell_type": "code",
   "execution_count": 19,
   "metadata": {
    "scrolled": false
   },
   "outputs": [
    {
     "data": {
      "text/plain": [
       "Text(0, 0.5, 'Mean RMSE over 5 fold')"
      ]
     },
     "execution_count": 19,
     "metadata": {},
     "output_type": "execute_result"
    },
    {
     "data": {
      "image/png": "[encoded data removed]",
      "text/plain": [
       "<Figure size 432x288 with 1 Axes>"
      ]
     },
     "metadata": {
      "needs_background": "light"
     },
     "output_type": "display_data"
    }
   ],
   "source": [
    "\n",
    "mean_std = Algo_rmse.groupby('Algorithm').agg([np.mean, np.std])\n",
    "mean_std['mean'].plot.bar(yerr=mean_std['std'], capsize=4).set_ylabel('Mean RMSE over 5 fold')\n",
    "#plt.ylabel('Mean RMSE over 5 fold')"
   ]
  },
  {
   "cell_type": "markdown",
   "metadata": {},
   "source": [
    "### Compare Deeplearning Model RMSE to others"
   ]
  },
  {
   "cell_type": "code",
   "execution_count": 22,
   "metadata": {},
   "outputs": [
    {
     "data": {
      "text/plain": [
       "Text(0, 0.5, 'Mean RMSE over 5 fold')"
      ]
     },
     "execution_count": 22,
     "metadata": {},
     "output_type": "execute_result"
    },
    {
     "data": {
      "image/png": "[encoded data removed]",
      "text/plain": [
       "<Figure size 432x288 with 1 Axes>"
      ]
     },
     "metadata": {
      "needs_background": "light"
     },
     "output_type": "display_data"
    }
   ],
   "source": [
    "\n",
    "mean_std.loc['Deeplearning'] = [0.704,0.049]#[Embedding_loss.mean().item(),float(np.std(Embedding_loss).values)]\n",
    "mean_std['mean'].plot.bar(yerr=mean_std['std'], capsize=4).set_ylabel('Mean RMSE over 5 fold')"
   ]
  },
  {
   "cell_type": "code",
   "execution_count": null,
   "metadata": {},
   "outputs": [],
   "source": [
    "np.random.seed(20190317)\n",
    "algo_names = list(('UserKNN', 'ItemKNN'))\n",
    "all_recs1 = []\n",
    "test_data1 = []\n",
    "fold = 0\n",
    "for train, test in xf.partition_users(ratings_df, 5, xf.SampleFrac(0.2)):\n",
    "# 5 fold cross-validation\n",
    "    test_data1.append(test)\n",
    "    for i, algo in enumerate((user_knn,item_knn)):\n",
    "        all_recs1.append(eval_recs(algo_names[i], fold, algo, train, test))\n",
    "    print(\"Completed fold {}\".format(fold))\n",
    "    fold += 1"
   ]
  },
  {
   "cell_type": "code",
   "execution_count": null,
   "metadata": {},
   "outputs": [],
   "source": []
  },
  {
   "cell_type": "code",
   "execution_count": null,
   "metadata": {},
   "outputs": [],
   "source": []
  },
  {
   "cell_type": "code",
   "execution_count": null,
   "metadata": {},
   "outputs": [],
   "source": []
  },
  {
   "cell_type": "code",
   "execution_count": null,
   "metadata": {},
   "outputs": [],
   "source": []
  },
  {
   "cell_type": "code",
   "execution_count": null,
   "metadata": {},
   "outputs": [],
   "source": []
  },
  {
   "cell_type": "code",
   "execution_count": null,
   "metadata": {},
   "outputs": [],
   "source": []
  },
  {
   "cell_type": "code",
   "execution_count": null,
   "metadata": {},
   "outputs": [],
   "source": []
  },
  {
   "cell_type": "code",
   "execution_count": null,
   "metadata": {},
   "outputs": [],
   "source": []
  },
  {
   "cell_type": "code",
   "execution_count": null,
   "metadata": {},
   "outputs": [],
   "source": []
  },
  {
   "cell_type": "code",
   "execution_count": null,
   "metadata": {},
   "outputs": [],
   "source": []
  },
  {
   "cell_type": "code",
   "execution_count": null,
   "metadata": {},
   "outputs": [],
   "source": []
  },
  {
   "cell_type": "code",
   "execution_count": null,
   "metadata": {},
   "outputs": [],
   "source": []
  },
  {
   "cell_type": "code",
   "execution_count": null,
   "metadata": {},
   "outputs": [],
   "source": []
  },
  {
   "cell_type": "code",
   "execution_count": null,
   "metadata": {},
   "outputs": [],
   "source": []
  },
  {
   "cell_type": "code",
   "execution_count": null,
   "metadata": {},
   "outputs": [],
   "source": []
  },
  {
   "cell_type": "code",
   "execution_count": null,
   "metadata": {},
   "outputs": [],
   "source": []
  },
  {
   "cell_type": "code",
   "execution_count": null,
   "metadata": {},
   "outputs": [],
   "source": []
  },
  {
   "cell_type": "code",
   "execution_count": null,
   "metadata": {},
   "outputs": [],
   "source": []
  },
  {
   "cell_type": "code",
   "execution_count": null,
   "metadata": {},
   "outputs": [],
   "source": []
  },
  {
   "cell_type": "code",
   "execution_count": null,
   "metadata": {},
   "outputs": [],
   "source": []
  },
  {
   "cell_type": "code",
   "execution_count": null,
   "metadata": {},
   "outputs": [],
   "source": []
  },
  {
   "cell_type": "code",
   "execution_count": null,
   "metadata": {},
   "outputs": [],
   "source": []
  },
  {
   "cell_type": "code",
   "execution_count": null,
   "metadata": {},
   "outputs": [],
   "source": []
  },
  {
   "cell_type": "code",
   "execution_count": null,
   "metadata": {},
   "outputs": [],
   "source": []
  },
  {
   "cell_type": "code",
   "execution_count": null,
   "metadata": {},
   "outputs": [],
   "source": []
  },
  {
   "cell_type": "code",
   "execution_count": null,
   "metadata": {},
   "outputs": [],
   "source": []
  },
  {
   "cell_type": "code",
   "execution_count": null,
   "metadata": {},
   "outputs": [],
   "source": []
  }
 ],
 "metadata": {
  "kernelspec": {
   "display_name": "Python 3",
   "language": "python",
   "name": "python3"
  },
  "language_info": {
   "codemirror_mode": {
    "name": "ipython",
    "version": 3
   },
   "file_extension": ".py",
   "mimetype": "text/x-python",
   "name": "python",
   "nbconvert_exporter": "python",
   "pygments_lexer": "ipython3",
   "version": "3.7.3"
  }
 },
 "nbformat": 4,
 "nbformat_minor": 2
}
